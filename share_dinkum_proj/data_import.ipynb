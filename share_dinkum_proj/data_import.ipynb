{
 "cells": [
  {
   "cell_type": "markdown",
   "metadata": {},
   "source": [
    "### Code definitions"
   ]
  },
  {
   "cell_type": "code",
   "execution_count": 1,
   "metadata": {},
   "outputs": [],
   "source": [
    "import os\n",
    "import sys\n",
    "from pathlib import Path\n",
    "from asgiref.sync import sync_to_async\n",
    "import string\n",
    "import pandas as  pd\n",
    "from datetime import date\n",
    "import yfinance as yf\n",
    "import sqlite3\n",
    "\n",
    "module_path = os.path.abspath(os.path.join('..'))\n",
    "if module_path not in sys.path:\n",
    "    sys.path.append(module_path)\n",
    "\n",
    "os.environ.setdefault('DJANGO_SETTINGS_MODULE', 'share_dinkum_proj.settings')\n",
    "\n",
    "import django\n",
    "django.setup()\n",
    "\n",
    "from django.conf import settings\n",
    "import share_dinkum_app.models as app_models\n",
    "\n",
    "from share_dinkum_app import loading"
   ]
  },
  {
   "cell_type": "code",
   "execution_count": 2,
   "metadata": {},
   "outputs": [],
   "source": [
    "import_data_folder = settings.BASE_DIR / 'share_dinkum_app' / 'import_data'\n",
    "\n",
    "personal_data = import_data_folder / 'data_import_template_personal.xlsx'\n",
    "sample_data = import_data_folder / 'data_import_template_public.xlsx'\n",
    "\n",
    "\n",
    "defaults = {\n",
    "    'sample_data' : {\n",
    "        'default_name' : 'sample_data',\n",
    "        'default_email' : 'sample_data@example.com',\n",
    "        'password' : 'password',\n",
    "        'default_portfolio_description' : 'Sample Data Portfolio',\n",
    "        'input_file' : sample_data,\n",
    "    },\n",
    "    'own_data' : {\n",
    "        'default_name' : 'admin',\n",
    "        'default_email' : 'admin@example.com',\n",
    "        'password' : 'password',\n",
    "        'default_portfolio_description' : 'Default Portfolio',\n",
    "        'input_file' : personal_data,\n",
    "    },\n",
    "}\n"
   ]
  },
  {
   "cell_type": "code",
   "execution_count": 3,
   "metadata": {},
   "outputs": [],
   "source": [
    "@sync_to_async\n",
    "def add_account(selection='sample_data'):\n",
    "\n",
    "    default_name = defaults[selection]['default_name']\n",
    "    default_email = defaults[selection]['default_email']\n",
    "    password = defaults[selection]['password']\n",
    "    default_portfolio_description = defaults[selection]['default_portfolio_description']\n",
    "\n",
    "    \n",
    "    fiscal_year_type, created = app_models.FiscalYearType.objects.get_or_create(\n",
    "        description='Australian Tax Year',\n",
    "        defaults={'start_month': 7, 'start_day': 1}\n",
    "    )\n",
    "\n",
    "    if not app_models.AppUser.objects.filter(username=default_name).exists():\n",
    "        user = app_models.AppUser.objects.create_superuser(username=default_name, email=default_email, password=password)   # Please change this password after logging in\n",
    "        print(\"Superuser created successfully!\")\n",
    "    owner = app_models.AppUser.objects.get(username=default_name)\n",
    "\n",
    "    record = {'description': default_portfolio_description, 'owner': owner, 'fiscal_year_type': fiscal_year_type}\n",
    "    account, created = app_models.Account.objects.get_or_create(description=default_portfolio_description, defaults=record)\n",
    "    return account\n",
    "\n",
    "@sync_to_async\n",
    "def clear_all_data():\n",
    "    loading.DataLoader.clear_all_data()\n",
    "    try:\n",
    "        del account # To avoid stale references\n",
    "    except NameError:\n",
    "        pass\n",
    "\n",
    "@sync_to_async\n",
    "def load_all_data(account, input_file):\n",
    "    loading.DataLoader(account=account, input_file=input_file)\n",
    "\n",
    "@sync_to_async\n",
    "def load_historical_prices(df, account):\n",
    "    loader = loading.DataLoader(account=account, input_file=None)\n",
    "    loader.load_table_to_model(model=app_models.InstrumentPriceHistory, df=df)\n",
    "    \n",
    "@sync_to_async\n",
    "def update_all_price_history(account):\n",
    "    account.update_all_price_history()"
   ]
  },
  {
   "cell_type": "code",
   "execution_count": 4,
   "metadata": {},
   "outputs": [
    {
     "name": "stdout",
     "output_type": "stream",
     "text": [
      "Deleted all models\n",
      "Forcefully deleted and recreated folder: C:\\code\\share-dinkum\\share_dinkum_proj\\media\n"
     ]
    }
   ],
   "source": [
    "await clear_all_data()"
   ]
  },
  {
   "cell_type": "code",
   "execution_count": 5,
   "metadata": {},
   "outputs": [
    {
     "name": "stdout",
     "output_type": "stream",
     "text": [
      "Using own data\n",
      "Superuser created successfully!\n",
      "Loading Market\n"
     ]
    },
    {
     "name": "stderr",
     "output_type": "stream",
     "text": [
      "100%|██████████| 11/11 [00:00<00:00, 180.93it/s]"
     ]
    },
    {
     "name": "stdout",
     "output_type": "stream",
     "text": [
      "Loading Instrument\n"
     ]
    },
    {
     "name": "stderr",
     "output_type": "stream",
     "text": [
      "\n",
      "100%|██████████| 45/45 [00:00<00:00, 108.13it/s]\n"
     ]
    },
    {
     "name": "stdout",
     "output_type": "stream",
     "text": [
      "Loading Buy\n"
     ]
    },
    {
     "name": "stderr",
     "output_type": "stream",
     "text": [
      "100%|██████████| 249/249 [00:14<00:00, 16.95it/s]\n"
     ]
    },
    {
     "name": "stdout",
     "output_type": "stream",
     "text": [
      "Loading Sell\n"
     ]
    },
    {
     "name": "stderr",
     "output_type": "stream",
     "text": [
      "100%|██████████| 44/44 [00:01<00:00, 43.40it/s]\n"
     ]
    },
    {
     "name": "stdout",
     "output_type": "stream",
     "text": [
      "Loading SellAllocation\n"
     ]
    },
    {
     "name": "stderr",
     "output_type": "stream",
     "text": [
      "100%|██████████| 82/82 [00:05<00:00, 15.59it/s]\n"
     ]
    },
    {
     "name": "stdout",
     "output_type": "stream",
     "text": [
      "Loading ShareSplit\n"
     ]
    },
    {
     "name": "stderr",
     "output_type": "stream",
     "text": [
      "0it [00:00, ?it/s]\n"
     ]
    },
    {
     "name": "stdout",
     "output_type": "stream",
     "text": [
      "Loading CostBaseAdjustment\n"
     ]
    },
    {
     "name": "stderr",
     "output_type": "stream",
     "text": [
      "100%|██████████| 43/43 [00:05<00:00,  7.78it/s]\n"
     ]
    },
    {
     "name": "stdout",
     "output_type": "stream",
     "text": [
      "Loading Dividend\n"
     ]
    },
    {
     "name": "stderr",
     "output_type": "stream",
     "text": [
      "100%|██████████| 297/297 [00:03<00:00, 89.95it/s]\n"
     ]
    },
    {
     "name": "stdout",
     "output_type": "stream",
     "text": [
      "Loading Distribution\n"
     ]
    },
    {
     "name": "stderr",
     "output_type": "stream",
     "text": [
      "100%|██████████| 180/180 [00:02<00:00, 88.62it/s]\n"
     ]
    }
   ],
   "source": [
    "selection = 'sample_data'\n",
    "\n",
    "if defaults['own_data']['input_file'].exists():\n",
    "    res = input(\"Personal import file exists. Do you want to use it? (y/n): \")\n",
    "    if res.upper() == 'Y':\n",
    "        selection = 'own_data'\n",
    "        print('Using own data')\n",
    "    else:\n",
    "        selection = 'sample_data'\n",
    "        print('Using generic data')\n",
    "\n",
    "\n",
    "input_file = defaults[selection]['input_file']\n",
    "\n",
    "account = await add_account(selection=selection)\n",
    "\n",
    "await load_all_data(account=account, input_file=input_file)"
   ]
  },
  {
   "cell_type": "code",
   "execution_count": 6,
   "metadata": {},
   "outputs": [
    {
     "name": "stderr",
     "output_type": "stream",
     "text": [
      "100%|██████████| 161291/161291 [09:58<00:00, 269.58it/s]\n"
     ]
    }
   ],
   "source": [
    "# You can ignore this cell\n",
    "\n",
    "legacy_db = Path(r'C:\\code\\finance-database\\finance-database.db')\n",
    "\n",
    "if selection == 'own_data' and legacy_db.exists():\n",
    "    query = \"SELECT * FROM [price_history] where ticker_code != 'AUDUSD=X'\"\n",
    "    parameters = None\n",
    "    with sqlite3.connect(legacy_db) as conn:\n",
    "        df = pd.read_sql_query(query, conn, params=parameters)\n",
    "    df['account'] = account\n",
    "    df['instrument__name'] = df['ticker_code'].apply(lambda x : x.split('.')[0])\n",
    "    df['date'] = df['date'].apply(lambda x : date.fromisoformat(x))\n",
    "    df = df.drop(columns=['id', 'ticker_code', 'capital_gains', 'dividends'])\n",
    "    df = df[~df['high'].isna()]\n",
    "\n",
    "    \n",
    "    await load_historical_prices(df=df, account=account)"
   ]
  },
  {
   "cell_type": "code",
   "execution_count": null,
   "metadata": {},
   "outputs": [],
   "source": [
    "await update_all_price_history(account=account)"
   ]
  }
 ],
 "metadata": {
  "kernelspec": {
   "display_name": "share-dinkum",
   "language": "python",
   "name": "python3"
  },
  "language_info": {
   "codemirror_mode": {
    "name": "ipython",
    "version": 3
   },
   "file_extension": ".py",
   "mimetype": "text/x-python",
   "name": "python",
   "nbconvert_exporter": "python",
   "pygments_lexer": "ipython3",
   "version": "3.13.3"
  }
 },
 "nbformat": 4,
 "nbformat_minor": 2
}
