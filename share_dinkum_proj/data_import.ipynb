{
 "cells": [
  {
   "cell_type": "markdown",
   "metadata": {},
   "source": [
    "### Code definitions"
   ]
  },
  {
   "cell_type": "code",
   "execution_count": 1,
   "metadata": {},
   "outputs": [],
   "source": [
    "import os\n",
    "import sys\n",
    "from pathlib import Path\n",
    "from asgiref.sync import sync_to_async\n",
    "import string\n",
    "import pandas as  pd\n",
    "from datetime import date\n",
    "import yfinance as yf\n",
    "import sqlite3\n",
    "\n",
    "module_path = os.path.abspath(os.path.join('..'))\n",
    "if module_path not in sys.path:\n",
    "    sys.path.append(module_path)\n",
    "\n",
    "os.environ.setdefault('DJANGO_SETTINGS_MODULE', 'share_dinkum_proj.settings')\n",
    "\n",
    "import django\n",
    "django.setup()\n",
    "\n",
    "from django.conf import settings\n",
    "import share_dinkum_app.models as app_models\n",
    "\n",
    "from share_dinkum_app import loading\n",
    "\n",
    "import logging\n",
    "logger = logging.getLogger(__name__)"
   ]
  },
  {
   "cell_type": "code",
   "execution_count": null,
   "metadata": {},
   "outputs": [],
   "source": []
  },
  {
   "cell_type": "code",
   "execution_count": 2,
   "metadata": {},
   "outputs": [],
   "source": [
    "import_data_folder = settings.BASE_DIR / 'share_dinkum_app' / 'import_data'\n",
    "\n",
    "personal_data = import_data_folder / 'data_import_template_personal.xlsx'\n",
    "sample_data = import_data_folder / 'data_import_template_public.xlsx'\n",
    "\n",
    "\n",
    "defaults = {\n",
    "    'sample_data' : {\n",
    "        'default_name' : 'sample_data',\n",
    "        'default_email' : 'sample_data@example.com',\n",
    "        'password' : 'password',\n",
    "        'default_portfolio_description' : 'Sample Data Portfolio',\n",
    "        'input_file' : sample_data,\n",
    "    },\n",
    "    'own_data' : {\n",
    "        'default_name' : 'admin',\n",
    "        'default_email' : 'admin@example.com',\n",
    "        'password' : 'password',\n",
    "        'default_portfolio_description' : 'Default Portfolio',\n",
    "        'input_file' : personal_data,\n",
    "    },\n",
    "}\n"
   ]
  },
  {
   "cell_type": "code",
   "execution_count": 3,
   "metadata": {},
   "outputs": [],
   "source": [
    "@sync_to_async\n",
    "def add_account(selection='sample_data'):\n",
    "\n",
    "    default_name = defaults[selection]['default_name']\n",
    "    default_email = defaults[selection]['default_email']\n",
    "    password = defaults[selection]['password']\n",
    "    default_portfolio_description = defaults[selection]['default_portfolio_description']\n",
    "\n",
    "    \n",
    "    fiscal_year_type, created = app_models.FiscalYearType.objects.get_or_create(\n",
    "        description='Australian Tax Year',\n",
    "        defaults={'start_month': 7, 'start_day': 1}\n",
    "    )\n",
    "\n",
    "    if not app_models.AppUser.objects.filter(username=default_name).exists():\n",
    "        user = app_models.AppUser.objects.create_superuser(username=default_name, email=default_email, password=password)   # Please change this password after logging in\n",
    "        logger.info(\"Superuser created successfully!\")\n",
    "    owner = app_models.AppUser.objects.get(username=default_name)\n",
    "\n",
    "    record = {'description': default_portfolio_description, 'owner': owner, 'fiscal_year_type': fiscal_year_type}\n",
    "    account, created = app_models.Account.objects.get_or_create(description=default_portfolio_description, defaults=record)\n",
    "    return account\n",
    "\n",
    "@sync_to_async\n",
    "def clear_all_data():\n",
    "    loading.DataLoader.clear_all_data()\n",
    "    try:\n",
    "        del account # To avoid stale references\n",
    "    except NameError:\n",
    "        pass\n",
    "\n",
    "@sync_to_async\n",
    "def load_all_data(account, input_file):\n",
    "    loading.DataLoader(account=account, input_file=input_file)\n",
    "\n",
    "@sync_to_async\n",
    "def load_historical_prices(df, account):\n",
    "    loader = loading.DataLoader(account=account, input_file=None)\n",
    "    loader.load_table_to_model(model=app_models.InstrumentPriceHistory, df=df)\n",
    "    \n",
    "@sync_to_async\n",
    "def update_all_price_history(account):\n",
    "    account.update_all_price_history()"
   ]
  },
  {
   "cell_type": "code",
   "execution_count": 4,
   "metadata": {},
   "outputs": [
    {
     "name": "stdout",
     "output_type": "stream",
     "text": [
      "2025-08-23 14:28:23 [ERROR] share_dinkum_app.loading: Error deleting model Instrument: Missing currency value\n",
      "Traceback (most recent call last):\n",
      "  File \"c:\\code\\share-dinkum\\share_dinkum_proj\\share_dinkum_app\\loading.py\", line 359, in clear_all_data\n",
      "    model.objects.all().delete()  # Deletes all records in the model\n",
      "    ~~~~~~~~~~~~~~~~~~~~~~~~~~^^\n",
      "  File \"c:\\code\\share-dinkum\\.venv\\Lib\\site-packages\\django\\db\\models\\query.py\", line 1198, in delete\n",
      "    collector.collect(del_query)\n",
      "    ~~~~~~~~~~~~~~~~~^^^^^^^^^^^\n",
      "  File \"c:\\code\\share-dinkum\\.venv\\Lib\\site-packages\\django\\db\\models\\deletion.py\", line 281, in collect\n",
      "    new_objs = self.add(\n",
      "        objs, source, nullable, reverse_dependency=reverse_dependency\n",
      "    )\n",
      "  File \"c:\\code\\share-dinkum\\.venv\\Lib\\site-packages\\django\\db\\models\\deletion.py\", line 124, in add\n",
      "    if not objs:\n",
      "           ^^^^\n",
      "  File \"c:\\code\\share-dinkum\\.venv\\Lib\\site-packages\\django\\db\\models\\query.py\", line 398, in __bool__\n",
      "    self._fetch_all()\n",
      "    ~~~~~~~~~~~~~~~^^\n",
      "  File \"c:\\code\\share-dinkum\\.venv\\Lib\\site-packages\\django\\db\\models\\query.py\", line 1949, in _fetch_all\n",
      "    self._result_cache = list(self._iterable_class(self))\n",
      "                         ~~~~^^^^^^^^^^^^^^^^^^^^^^^^^^^^\n",
      "  File \"c:\\code\\share-dinkum\\.venv\\Lib\\site-packages\\django\\db\\models\\query.py\", line 124, in __iter__\n",
      "    obj = model_cls.from_db(\n",
      "        db, init_list, row[model_fields_start:model_fields_end]\n",
      "    )\n",
      "  File \"c:\\code\\share-dinkum\\.venv\\Lib\\site-packages\\django\\db\\models\\base.py\", line 584, in from_db\n",
      "    new = cls(*values)\n",
      "  File \"c:\\code\\share-dinkum\\.venv\\Lib\\site-packages\\django\\db\\models\\base.py\", line 493, in __init__\n",
      "    _setattr(self, field.attname, val)\n",
      "    ~~~~~~~~^^^^^^^^^^^^^^^^^^^^^^^^^^\n",
      "  File \"c:\\code\\share-dinkum\\.venv\\Lib\\site-packages\\djmoney\\models\\fields.py\", line 116, in __set__\n",
      "    raise ValueError(\"Missing currency value\")\n",
      "ValueError: Missing currency value\n"
     ]
    },
    {
     "ename": "ValueError",
     "evalue": "Missing currency value",
     "output_type": "error",
     "traceback": [
      "\u001b[31m---------------------------------------------------------------------------\u001b[39m",
      "\u001b[31mValueError\u001b[39m                                Traceback (most recent call last)",
      "\u001b[36mCell\u001b[39m\u001b[36m \u001b[39m\u001b[32mIn[4]\u001b[39m\u001b[32m, line 1\u001b[39m\n\u001b[32m----> \u001b[39m\u001b[32m1\u001b[39m \u001b[38;5;28;01mawait\u001b[39;00m clear_all_data()\n",
      "\u001b[36mFile \u001b[39m\u001b[32mc:\\code\\share-dinkum\\.venv\\Lib\\site-packages\\asgiref\\sync.py:439\u001b[39m, in \u001b[36mSyncToAsync.__call__\u001b[39m\u001b[34m(self, *args, **kwargs)\u001b[39m\n\u001b[32m    437\u001b[39m ret: _R\n\u001b[32m    438\u001b[39m \u001b[38;5;28;01mtry\u001b[39;00m:\n\u001b[32m--> \u001b[39m\u001b[32m439\u001b[39m     ret = \u001b[38;5;28;01mawait\u001b[39;00m asyncio.shield(exec_coro)\n\u001b[32m    440\u001b[39m \u001b[38;5;28;01mexcept\u001b[39;00m asyncio.CancelledError:\n\u001b[32m    441\u001b[39m     cancel_parent = \u001b[38;5;28;01mTrue\u001b[39;00m\n",
      "\u001b[36mFile \u001b[39m\u001b[32m~\\AppData\\Local\\Programs\\Python\\Python313\\Lib\\concurrent\\futures\\thread.py:59\u001b[39m, in \u001b[36m_WorkItem.run\u001b[39m\u001b[34m(self)\u001b[39m\n\u001b[32m     56\u001b[39m     \u001b[38;5;28;01mreturn\u001b[39;00m\n\u001b[32m     58\u001b[39m \u001b[38;5;28;01mtry\u001b[39;00m:\n\u001b[32m---> \u001b[39m\u001b[32m59\u001b[39m     result = \u001b[38;5;28;43mself\u001b[39;49m\u001b[43m.\u001b[49m\u001b[43mfn\u001b[49m\u001b[43m(\u001b[49m\u001b[43m*\u001b[49m\u001b[38;5;28;43mself\u001b[39;49m\u001b[43m.\u001b[49m\u001b[43margs\u001b[49m\u001b[43m,\u001b[49m\u001b[43m \u001b[49m\u001b[43m*\u001b[49m\u001b[43m*\u001b[49m\u001b[38;5;28;43mself\u001b[39;49m\u001b[43m.\u001b[49m\u001b[43mkwargs\u001b[49m\u001b[43m)\u001b[49m\n\u001b[32m     60\u001b[39m \u001b[38;5;28;01mexcept\u001b[39;00m \u001b[38;5;167;01mBaseException\u001b[39;00m \u001b[38;5;28;01mas\u001b[39;00m exc:\n\u001b[32m     61\u001b[39m     \u001b[38;5;28mself\u001b[39m.future.set_exception(exc)\n",
      "\u001b[36mFile \u001b[39m\u001b[32mc:\\code\\share-dinkum\\.venv\\Lib\\site-packages\\asgiref\\sync.py:493\u001b[39m, in \u001b[36mSyncToAsync.thread_handler\u001b[39m\u001b[34m(self, loop, exc_info, task_context, func, *args, **kwargs)\u001b[39m\n\u001b[32m    491\u001b[39m         \u001b[38;5;28;01mreturn\u001b[39;00m func(*args, **kwargs)\n\u001b[32m    492\u001b[39m \u001b[38;5;28;01melse\u001b[39;00m:\n\u001b[32m--> \u001b[39m\u001b[32m493\u001b[39m     \u001b[38;5;28;01mreturn\u001b[39;00m \u001b[43mfunc\u001b[49m\u001b[43m(\u001b[49m\u001b[43m*\u001b[49m\u001b[43margs\u001b[49m\u001b[43m,\u001b[49m\u001b[43m \u001b[49m\u001b[43m*\u001b[49m\u001b[43m*\u001b[49m\u001b[43mkwargs\u001b[49m\u001b[43m)\u001b[49m\n",
      "\u001b[36mCell\u001b[39m\u001b[36m \u001b[39m\u001b[32mIn[3]\u001b[39m\u001b[32m, line 26\u001b[39m, in \u001b[36mclear_all_data\u001b[39m\u001b[34m()\u001b[39m\n\u001b[32m     24\u001b[39m \u001b[38;5;129m@sync_to_async\u001b[39m\n\u001b[32m     25\u001b[39m \u001b[38;5;28;01mdef\u001b[39;00m\u001b[38;5;250m \u001b[39m\u001b[34mclear_all_data\u001b[39m():\n\u001b[32m---> \u001b[39m\u001b[32m26\u001b[39m     \u001b[43mloading\u001b[49m\u001b[43m.\u001b[49m\u001b[43mDataLoader\u001b[49m\u001b[43m.\u001b[49m\u001b[43mclear_all_data\u001b[49m\u001b[43m(\u001b[49m\u001b[43m)\u001b[49m\n\u001b[32m     27\u001b[39m     \u001b[38;5;28;01mtry\u001b[39;00m:\n\u001b[32m     28\u001b[39m         \u001b[38;5;28;01mdel\u001b[39;00m account \u001b[38;5;66;03m# To avoid stale references\u001b[39;00m\n",
      "\u001b[36mFile \u001b[39m\u001b[32mc:\\code\\share-dinkum\\share_dinkum_proj\\share_dinkum_app\\loading.py:359\u001b[39m, in \u001b[36mDataLoader.clear_all_data\u001b[39m\u001b[34m(cls)\u001b[39m\n\u001b[32m    357\u001b[39m \u001b[38;5;28;01mfor\u001b[39;00m model \u001b[38;5;129;01min\u001b[39;00m model_deletion_order:\n\u001b[32m    358\u001b[39m     \u001b[38;5;28;01mtry\u001b[39;00m:\n\u001b[32m--> \u001b[39m\u001b[32m359\u001b[39m         \u001b[43mmodel\u001b[49m\u001b[43m.\u001b[49m\u001b[43mobjects\u001b[49m\u001b[43m.\u001b[49m\u001b[43mall\u001b[49m\u001b[43m(\u001b[49m\u001b[43m)\u001b[49m\u001b[43m.\u001b[49m\u001b[43mdelete\u001b[49m\u001b[43m(\u001b[49m\u001b[43m)\u001b[49m  \u001b[38;5;66;03m# Deletes all records in the model\u001b[39;00m\n\u001b[32m    360\u001b[39m     \u001b[38;5;28;01mexcept\u001b[39;00m \u001b[38;5;167;01mException\u001b[39;00m \u001b[38;5;28;01mas\u001b[39;00m e:\n\u001b[32m    361\u001b[39m         logger.error(\u001b[33mf\u001b[39m\u001b[33m\"\u001b[39m\u001b[33mError deleting model \u001b[39m\u001b[38;5;132;01m{\u001b[39;00mmodel.\u001b[34m__name__\u001b[39m\u001b[38;5;132;01m}\u001b[39;00m\u001b[33m: \u001b[39m\u001b[38;5;132;01m{\u001b[39;00me\u001b[38;5;132;01m}\u001b[39;00m\u001b[33m\"\u001b[39m, exc_info=\u001b[38;5;28;01mTrue\u001b[39;00m)\n",
      "\u001b[36mFile \u001b[39m\u001b[32mc:\\code\\share-dinkum\\.venv\\Lib\\site-packages\\django\\db\\models\\query.py:1198\u001b[39m, in \u001b[36mQuerySet.delete\u001b[39m\u001b[34m(self)\u001b[39m\n\u001b[32m   1195\u001b[39m del_query.query.clear_ordering(force=\u001b[38;5;28;01mTrue\u001b[39;00m)\n\u001b[32m   1197\u001b[39m collector = Collector(using=del_query.db, origin=\u001b[38;5;28mself\u001b[39m)\n\u001b[32m-> \u001b[39m\u001b[32m1198\u001b[39m \u001b[43mcollector\u001b[49m\u001b[43m.\u001b[49m\u001b[43mcollect\u001b[49m\u001b[43m(\u001b[49m\u001b[43mdel_query\u001b[49m\u001b[43m)\u001b[49m\n\u001b[32m   1199\u001b[39m num_deleted, num_deleted_per_model = collector.delete()\n\u001b[32m   1201\u001b[39m \u001b[38;5;66;03m# Clear the result cache, in case this QuerySet gets reused.\u001b[39;00m\n",
      "\u001b[36mFile \u001b[39m\u001b[32mc:\\code\\share-dinkum\\.venv\\Lib\\site-packages\\django\\db\\models\\deletion.py:281\u001b[39m, in \u001b[36mCollector.collect\u001b[39m\u001b[34m(self, objs, source, nullable, collect_related, source_attr, reverse_dependency, keep_parents, fail_on_restricted)\u001b[39m\n\u001b[32m    279\u001b[39m     \u001b[38;5;28mself\u001b[39m.fast_deletes.append(objs)\n\u001b[32m    280\u001b[39m     \u001b[38;5;28;01mreturn\u001b[39;00m\n\u001b[32m--> \u001b[39m\u001b[32m281\u001b[39m new_objs = \u001b[38;5;28;43mself\u001b[39;49m\u001b[43m.\u001b[49m\u001b[43madd\u001b[49m\u001b[43m(\u001b[49m\n\u001b[32m    282\u001b[39m \u001b[43m    \u001b[49m\u001b[43mobjs\u001b[49m\u001b[43m,\u001b[49m\u001b[43m \u001b[49m\u001b[43msource\u001b[49m\u001b[43m,\u001b[49m\u001b[43m \u001b[49m\u001b[43mnullable\u001b[49m\u001b[43m,\u001b[49m\u001b[43m \u001b[49m\u001b[43mreverse_dependency\u001b[49m\u001b[43m=\u001b[49m\u001b[43mreverse_dependency\u001b[49m\n\u001b[32m    283\u001b[39m \u001b[43m\u001b[49m\u001b[43m)\u001b[49m\n\u001b[32m    284\u001b[39m \u001b[38;5;28;01mif\u001b[39;00m \u001b[38;5;129;01mnot\u001b[39;00m new_objs:\n\u001b[32m    285\u001b[39m     \u001b[38;5;28;01mreturn\u001b[39;00m\n",
      "\u001b[36mFile \u001b[39m\u001b[32mc:\\code\\share-dinkum\\.venv\\Lib\\site-packages\\django\\db\\models\\deletion.py:124\u001b[39m, in \u001b[36mCollector.add\u001b[39m\u001b[34m(self, objs, source, nullable, reverse_dependency)\u001b[39m\n\u001b[32m    116\u001b[39m \u001b[38;5;28;01mdef\u001b[39;00m\u001b[38;5;250m \u001b[39m\u001b[34madd\u001b[39m(\u001b[38;5;28mself\u001b[39m, objs, source=\u001b[38;5;28;01mNone\u001b[39;00m, nullable=\u001b[38;5;28;01mFalse\u001b[39;00m, reverse_dependency=\u001b[38;5;28;01mFalse\u001b[39;00m):\n\u001b[32m    117\u001b[39m \u001b[38;5;250m    \u001b[39m\u001b[33;03m\"\"\"\u001b[39;00m\n\u001b[32m    118\u001b[39m \u001b[33;03m    Add 'objs' to the collection of objects to be deleted.  If the call is\u001b[39;00m\n\u001b[32m    119\u001b[39m \u001b[33;03m    the result of a cascade, 'source' should be the model that caused it,\u001b[39;00m\n\u001b[32m   (...)\u001b[39m\u001b[32m    122\u001b[39m \u001b[33;03m    Return a list of all objects that were not already collected.\u001b[39;00m\n\u001b[32m    123\u001b[39m \u001b[33;03m    \"\"\"\u001b[39;00m\n\u001b[32m--> \u001b[39m\u001b[32m124\u001b[39m     \u001b[38;5;28;01mif\u001b[39;00m \u001b[38;5;129;01mnot\u001b[39;00m objs:\n\u001b[32m    125\u001b[39m         \u001b[38;5;28;01mreturn\u001b[39;00m []\n\u001b[32m    126\u001b[39m     new_objs = []\n",
      "\u001b[36mFile \u001b[39m\u001b[32mc:\\code\\share-dinkum\\.venv\\Lib\\site-packages\\django\\db\\models\\query.py:398\u001b[39m, in \u001b[36mQuerySet.__bool__\u001b[39m\u001b[34m(self)\u001b[39m\n\u001b[32m    397\u001b[39m \u001b[38;5;28;01mdef\u001b[39;00m\u001b[38;5;250m \u001b[39m\u001b[34m__bool__\u001b[39m(\u001b[38;5;28mself\u001b[39m):\n\u001b[32m--> \u001b[39m\u001b[32m398\u001b[39m     \u001b[38;5;28;43mself\u001b[39;49m\u001b[43m.\u001b[49m\u001b[43m_fetch_all\u001b[49m\u001b[43m(\u001b[49m\u001b[43m)\u001b[49m\n\u001b[32m    399\u001b[39m     \u001b[38;5;28;01mreturn\u001b[39;00m \u001b[38;5;28mbool\u001b[39m(\u001b[38;5;28mself\u001b[39m._result_cache)\n",
      "\u001b[36mFile \u001b[39m\u001b[32mc:\\code\\share-dinkum\\.venv\\Lib\\site-packages\\django\\db\\models\\query.py:1949\u001b[39m, in \u001b[36mQuerySet._fetch_all\u001b[39m\u001b[34m(self)\u001b[39m\n\u001b[32m   1947\u001b[39m \u001b[38;5;28;01mdef\u001b[39;00m\u001b[38;5;250m \u001b[39m\u001b[34m_fetch_all\u001b[39m(\u001b[38;5;28mself\u001b[39m):\n\u001b[32m   1948\u001b[39m     \u001b[38;5;28;01mif\u001b[39;00m \u001b[38;5;28mself\u001b[39m._result_cache \u001b[38;5;129;01mis\u001b[39;00m \u001b[38;5;28;01mNone\u001b[39;00m:\n\u001b[32m-> \u001b[39m\u001b[32m1949\u001b[39m         \u001b[38;5;28mself\u001b[39m._result_cache = \u001b[38;5;28;43mlist\u001b[39;49m\u001b[43m(\u001b[49m\u001b[38;5;28;43mself\u001b[39;49m\u001b[43m.\u001b[49m\u001b[43m_iterable_class\u001b[49m\u001b[43m(\u001b[49m\u001b[38;5;28;43mself\u001b[39;49m\u001b[43m)\u001b[49m\u001b[43m)\u001b[49m\n\u001b[32m   1950\u001b[39m     \u001b[38;5;28;01mif\u001b[39;00m \u001b[38;5;28mself\u001b[39m._prefetch_related_lookups \u001b[38;5;129;01mand\u001b[39;00m \u001b[38;5;129;01mnot\u001b[39;00m \u001b[38;5;28mself\u001b[39m._prefetch_done:\n\u001b[32m   1951\u001b[39m         \u001b[38;5;28mself\u001b[39m._prefetch_related_objects()\n",
      "\u001b[36mFile \u001b[39m\u001b[32mc:\\code\\share-dinkum\\.venv\\Lib\\site-packages\\django\\db\\models\\query.py:124\u001b[39m, in \u001b[36mModelIterable.__iter__\u001b[39m\u001b[34m(self)\u001b[39m\n\u001b[32m    106\u001b[39m known_related_objects = [\n\u001b[32m    107\u001b[39m     (\n\u001b[32m    108\u001b[39m         field,\n\u001b[32m   (...)\u001b[39m\u001b[32m    121\u001b[39m     \u001b[38;5;28;01mfor\u001b[39;00m field, related_objs \u001b[38;5;129;01min\u001b[39;00m queryset._known_related_objects.items()\n\u001b[32m    122\u001b[39m ]\n\u001b[32m    123\u001b[39m \u001b[38;5;28;01mfor\u001b[39;00m row \u001b[38;5;129;01min\u001b[39;00m compiler.results_iter(results):\n\u001b[32m--> \u001b[39m\u001b[32m124\u001b[39m     obj = \u001b[43mmodel_cls\u001b[49m\u001b[43m.\u001b[49m\u001b[43mfrom_db\u001b[49m\u001b[43m(\u001b[49m\n\u001b[32m    125\u001b[39m \u001b[43m        \u001b[49m\u001b[43mdb\u001b[49m\u001b[43m,\u001b[49m\u001b[43m \u001b[49m\u001b[43minit_list\u001b[49m\u001b[43m,\u001b[49m\u001b[43m \u001b[49m\u001b[43mrow\u001b[49m\u001b[43m[\u001b[49m\u001b[43mmodel_fields_start\u001b[49m\u001b[43m:\u001b[49m\u001b[43mmodel_fields_end\u001b[49m\u001b[43m]\u001b[49m\n\u001b[32m    126\u001b[39m \u001b[43m    \u001b[49m\u001b[43m)\u001b[49m\n\u001b[32m    127\u001b[39m     \u001b[38;5;28;01mfor\u001b[39;00m rel_populator \u001b[38;5;129;01min\u001b[39;00m related_populators:\n\u001b[32m    128\u001b[39m         rel_populator.populate(row, obj)\n",
      "\u001b[36mFile \u001b[39m\u001b[32mc:\\code\\share-dinkum\\.venv\\Lib\\site-packages\\django\\db\\models\\base.py:584\u001b[39m, in \u001b[36mModel.from_db\u001b[39m\u001b[34m(cls, db, field_names, values)\u001b[39m\n\u001b[32m    579\u001b[39m     values_iter = \u001b[38;5;28miter\u001b[39m(values)\n\u001b[32m    580\u001b[39m     values = [\n\u001b[32m    581\u001b[39m         \u001b[38;5;28mnext\u001b[39m(values_iter) \u001b[38;5;28;01mif\u001b[39;00m f.attname \u001b[38;5;129;01min\u001b[39;00m field_names \u001b[38;5;28;01melse\u001b[39;00m DEFERRED\n\u001b[32m    582\u001b[39m         \u001b[38;5;28;01mfor\u001b[39;00m f \u001b[38;5;129;01min\u001b[39;00m \u001b[38;5;28mcls\u001b[39m._meta.concrete_fields\n\u001b[32m    583\u001b[39m     ]\n\u001b[32m--> \u001b[39m\u001b[32m584\u001b[39m new = \u001b[38;5;28;43mcls\u001b[39;49m\u001b[43m(\u001b[49m\u001b[43m*\u001b[49m\u001b[43mvalues\u001b[49m\u001b[43m)\u001b[49m\n\u001b[32m    585\u001b[39m new._state.adding = \u001b[38;5;28;01mFalse\u001b[39;00m\n\u001b[32m    586\u001b[39m new._state.db = db\n",
      "\u001b[36mFile \u001b[39m\u001b[32mc:\\code\\share-dinkum\\.venv\\Lib\\site-packages\\django\\db\\models\\base.py:493\u001b[39m, in \u001b[36mModel.__init__\u001b[39m\u001b[34m(self, *args, **kwargs)\u001b[39m\n\u001b[32m    491\u001b[39m         \u001b[38;5;28;01mif\u001b[39;00m val \u001b[38;5;129;01mis\u001b[39;00m _DEFERRED:\n\u001b[32m    492\u001b[39m             \u001b[38;5;28;01mcontinue\u001b[39;00m\n\u001b[32m--> \u001b[39m\u001b[32m493\u001b[39m         \u001b[43m_setattr\u001b[49m\u001b[43m(\u001b[49m\u001b[38;5;28;43mself\u001b[39;49m\u001b[43m,\u001b[49m\u001b[43m \u001b[49m\u001b[43mfield\u001b[49m\u001b[43m.\u001b[49m\u001b[43mattname\u001b[49m\u001b[43m,\u001b[49m\u001b[43m \u001b[49m\u001b[43mval\u001b[49m\u001b[43m)\u001b[49m\n\u001b[32m    494\u001b[39m \u001b[38;5;28;01melse\u001b[39;00m:\n\u001b[32m    495\u001b[39m     \u001b[38;5;66;03m# Slower, kwargs-ready version.\u001b[39;00m\n\u001b[32m    496\u001b[39m     fields_iter = \u001b[38;5;28miter\u001b[39m(opts.fields)\n",
      "\u001b[36mFile \u001b[39m\u001b[32mc:\\code\\share-dinkum\\.venv\\Lib\\site-packages\\djmoney\\models\\fields.py:116\u001b[39m, in \u001b[36mMoneyFieldProxy.__set__\u001b[39m\u001b[34m(self, obj, value)\u001b[39m\n\u001b[32m    108\u001b[39m \u001b[38;5;28;01mdef\u001b[39;00m\u001b[38;5;250m \u001b[39m\u001b[34m__set__\u001b[39m(\u001b[38;5;28mself\u001b[39m, obj, value):  \u001b[38;5;66;03m# noqa\u001b[39;00m\n\u001b[32m    109\u001b[39m     \u001b[38;5;28;01mif\u001b[39;00m (\n\u001b[32m    110\u001b[39m         value \u001b[38;5;129;01mis\u001b[39;00m \u001b[38;5;129;01mnot\u001b[39;00m \u001b[38;5;28;01mNone\u001b[39;00m\n\u001b[32m    111\u001b[39m         \u001b[38;5;129;01mand\u001b[39;00m \u001b[38;5;28mself\u001b[39m.field._currency_field.null\n\u001b[32m   (...)\u001b[39m\u001b[32m    114\u001b[39m     ):\n\u001b[32m    115\u001b[39m         \u001b[38;5;66;03m# For nullable fields we need either both NULL amount and currency or both NOT NULL\u001b[39;00m\n\u001b[32m--> \u001b[39m\u001b[32m116\u001b[39m         \u001b[38;5;28;01mraise\u001b[39;00m \u001b[38;5;167;01mValueError\u001b[39;00m(\u001b[33m\"\u001b[39m\u001b[33mMissing currency value\u001b[39m\u001b[33m\"\u001b[39m)\n\u001b[32m    117\u001b[39m     \u001b[38;5;28;01mif\u001b[39;00m \u001b[38;5;28misinstance\u001b[39m(value, BaseExpression):\n\u001b[32m    118\u001b[39m         \u001b[38;5;28;01mif\u001b[39;00m \u001b[38;5;28misinstance\u001b[39m(value, Value):\n",
      "\u001b[31mValueError\u001b[39m: Missing currency value"
     ]
    }
   ],
   "source": [
    "await clear_all_data()"
   ]
  },
  {
   "cell_type": "code",
   "execution_count": null,
   "metadata": {},
   "outputs": [
    {
     "name": "stdout",
     "output_type": "stream",
     "text": [
      "Using own data\n",
      "Superuser created successfully!\n",
      "Loading Market\n"
     ]
    },
    {
     "name": "stderr",
     "output_type": "stream",
     "text": [
      "100%|██████████| 11/11 [00:00<00:00, 184.41it/s]\n"
     ]
    },
    {
     "name": "stdout",
     "output_type": "stream",
     "text": [
      "Loading Instrument\n"
     ]
    },
    {
     "name": "stderr",
     "output_type": "stream",
     "text": [
      "100%|██████████| 45/45 [00:00<00:00, 108.38it/s]\n"
     ]
    },
    {
     "name": "stdout",
     "output_type": "stream",
     "text": [
      "Loading Buy\n"
     ]
    },
    {
     "ename": "ValueError",
     "evalue": "Missing currency value",
     "output_type": "error",
     "traceback": [
      "\u001b[31m---------------------------------------------------------------------------\u001b[39m",
      "\u001b[31mValueError\u001b[39m                                Traceback (most recent call last)",
      "\u001b[36mCell\u001b[39m\u001b[36m \u001b[39m\u001b[32mIn[5]\u001b[39m\u001b[32m, line 17\u001b[39m\n\u001b[32m     13\u001b[39m input_file = defaults[selection][\u001b[33m'\u001b[39m\u001b[33minput_file\u001b[39m\u001b[33m'\u001b[39m]\n\u001b[32m     15\u001b[39m account = \u001b[38;5;28;01mawait\u001b[39;00m add_account(selection=selection)\n\u001b[32m---> \u001b[39m\u001b[32m17\u001b[39m \u001b[38;5;28;01mawait\u001b[39;00m load_all_data(account=account, input_file=input_file)\n",
      "\u001b[36mFile \u001b[39m\u001b[32mc:\\code\\share-dinkum\\.venv\\Lib\\site-packages\\asgiref\\sync.py:439\u001b[39m, in \u001b[36mSyncToAsync.__call__\u001b[39m\u001b[34m(self, *args, **kwargs)\u001b[39m\n\u001b[32m    437\u001b[39m ret: _R\n\u001b[32m    438\u001b[39m \u001b[38;5;28;01mtry\u001b[39;00m:\n\u001b[32m--> \u001b[39m\u001b[32m439\u001b[39m     ret = \u001b[38;5;28;01mawait\u001b[39;00m asyncio.shield(exec_coro)\n\u001b[32m    440\u001b[39m \u001b[38;5;28;01mexcept\u001b[39;00m asyncio.CancelledError:\n\u001b[32m    441\u001b[39m     cancel_parent = \u001b[38;5;28;01mTrue\u001b[39;00m\n",
      "\u001b[36mFile \u001b[39m\u001b[32m~\\AppData\\Local\\Programs\\Python\\Python313\\Lib\\concurrent\\futures\\thread.py:59\u001b[39m, in \u001b[36m_WorkItem.run\u001b[39m\u001b[34m(self)\u001b[39m\n\u001b[32m     56\u001b[39m     \u001b[38;5;28;01mreturn\u001b[39;00m\n\u001b[32m     58\u001b[39m \u001b[38;5;28;01mtry\u001b[39;00m:\n\u001b[32m---> \u001b[39m\u001b[32m59\u001b[39m     result = \u001b[38;5;28;43mself\u001b[39;49m\u001b[43m.\u001b[49m\u001b[43mfn\u001b[49m\u001b[43m(\u001b[49m\u001b[43m*\u001b[49m\u001b[38;5;28;43mself\u001b[39;49m\u001b[43m.\u001b[49m\u001b[43margs\u001b[49m\u001b[43m,\u001b[49m\u001b[43m \u001b[49m\u001b[43m*\u001b[49m\u001b[43m*\u001b[49m\u001b[38;5;28;43mself\u001b[39;49m\u001b[43m.\u001b[49m\u001b[43mkwargs\u001b[49m\u001b[43m)\u001b[49m\n\u001b[32m     60\u001b[39m \u001b[38;5;28;01mexcept\u001b[39;00m \u001b[38;5;167;01mBaseException\u001b[39;00m \u001b[38;5;28;01mas\u001b[39;00m exc:\n\u001b[32m     61\u001b[39m     \u001b[38;5;28mself\u001b[39m.future.set_exception(exc)\n",
      "\u001b[36mFile \u001b[39m\u001b[32mc:\\code\\share-dinkum\\.venv\\Lib\\site-packages\\asgiref\\sync.py:493\u001b[39m, in \u001b[36mSyncToAsync.thread_handler\u001b[39m\u001b[34m(self, loop, exc_info, task_context, func, *args, **kwargs)\u001b[39m\n\u001b[32m    491\u001b[39m         \u001b[38;5;28;01mreturn\u001b[39;00m func(*args, **kwargs)\n\u001b[32m    492\u001b[39m \u001b[38;5;28;01melse\u001b[39;00m:\n\u001b[32m--> \u001b[39m\u001b[32m493\u001b[39m     \u001b[38;5;28;01mreturn\u001b[39;00m \u001b[43mfunc\u001b[49m\u001b[43m(\u001b[49m\u001b[43m*\u001b[49m\u001b[43margs\u001b[49m\u001b[43m,\u001b[49m\u001b[43m \u001b[49m\u001b[43m*\u001b[49m\u001b[43m*\u001b[49m\u001b[43mkwargs\u001b[49m\u001b[43m)\u001b[49m\n",
      "\u001b[36mCell\u001b[39m\u001b[36m \u001b[39m\u001b[32mIn[3]\u001b[39m\u001b[32m, line 34\u001b[39m, in \u001b[36mload_all_data\u001b[39m\u001b[34m(account, input_file)\u001b[39m\n\u001b[32m     32\u001b[39m \u001b[38;5;129m@sync_to_async\u001b[39m\n\u001b[32m     33\u001b[39m \u001b[38;5;28;01mdef\u001b[39;00m\u001b[38;5;250m \u001b[39m\u001b[34mload_all_data\u001b[39m(account, input_file):\n\u001b[32m---> \u001b[39m\u001b[32m34\u001b[39m     \u001b[43mloading\u001b[49m\u001b[43m.\u001b[49m\u001b[43mDataLoader\u001b[49m\u001b[43m(\u001b[49m\u001b[43maccount\u001b[49m\u001b[43m=\u001b[49m\u001b[43maccount\u001b[49m\u001b[43m,\u001b[49m\u001b[43m \u001b[49m\u001b[43minput_file\u001b[49m\u001b[43m=\u001b[49m\u001b[43minput_file\u001b[49m\u001b[43m)\u001b[49m\n",
      "\u001b[36mFile \u001b[39m\u001b[32mc:\\code\\share-dinkum\\share_dinkum_proj\\share_dinkum_app\\loading.py:119\u001b[39m, in \u001b[36mDataLoader.__init__\u001b[39m\u001b[34m(self, account, input_file)\u001b[39m\n\u001b[32m    117\u001b[39m \u001b[38;5;28;01mif\u001b[39;00m \u001b[38;5;28mself\u001b[39m.input_file:\n\u001b[32m    118\u001b[39m     \u001b[38;5;28mself\u001b[39m.mapping = excelinterface.get_all_tables_in_excel(\u001b[38;5;28mself\u001b[39m.input_file)\n\u001b[32m--> \u001b[39m\u001b[32m119\u001b[39m     \u001b[38;5;28;43mself\u001b[39;49m\u001b[43m.\u001b[49m\u001b[43mload_all_tables\u001b[49m\u001b[43m(\u001b[49m\u001b[43m)\u001b[49m\n",
      "\u001b[36mFile \u001b[39m\u001b[32mc:\\code\\share-dinkum\\share_dinkum_proj\\share_dinkum_app\\loading.py:170\u001b[39m, in \u001b[36mDataLoader.load_all_tables\u001b[39m\u001b[34m(self)\u001b[39m\n\u001b[32m    168\u001b[39m \u001b[38;5;28;01mif\u001b[39;00m df \u001b[38;5;129;01mis\u001b[39;00m \u001b[38;5;129;01mnot\u001b[39;00m \u001b[38;5;28;01mNone\u001b[39;00m:\n\u001b[32m    169\u001b[39m     \u001b[38;5;28mprint\u001b[39m(\u001b[33mf\u001b[39m\u001b[33m\"\u001b[39m\u001b[33mLoading \u001b[39m\u001b[38;5;132;01m{\u001b[39;00mtable_name\u001b[38;5;132;01m}\u001b[39;00m\u001b[33m\"\u001b[39m)\n\u001b[32m--> \u001b[39m\u001b[32m170\u001b[39m     \u001b[38;5;28;43mself\u001b[39;49m\u001b[43m.\u001b[49m\u001b[43mload_table_to_model\u001b[49m\u001b[43m(\u001b[49m\u001b[43mmodel\u001b[49m\u001b[43m=\u001b[49m\u001b[43mmodel\u001b[49m\u001b[43m,\u001b[49m\u001b[43m \u001b[49m\u001b[43mdf\u001b[49m\u001b[43m=\u001b[49m\u001b[43mdf\u001b[49m\u001b[43m)\u001b[49m\n",
      "\u001b[36mFile \u001b[39m\u001b[32mc:\\code\\share-dinkum\\share_dinkum_proj\\share_dinkum_app\\loading.py:209\u001b[39m, in \u001b[36mDataLoader.load_table_to_model\u001b[39m\u001b[34m(self, model, df)\u001b[39m\n\u001b[32m    205\u001b[39m field_instance = model._meta.get_field(base_field_name)\n\u001b[32m    206\u001b[39m related_model = field_instance.related_model\n\u001b[32m--> \u001b[39m\u001b[32m209\u001b[39m df[base_field_name] = \u001b[43mdf\u001b[49m\u001b[43m[\u001b[49m\u001b[43mcol\u001b[49m\u001b[43m]\u001b[49m\u001b[43m.\u001b[49m\u001b[43mapply\u001b[49m\u001b[43m(\u001b[49m\n\u001b[32m    210\u001b[39m \u001b[43m    \u001b[49m\u001b[38;5;28;43;01mlambda\u001b[39;49;00m\u001b[43m \u001b[49m\u001b[43mfield_val\u001b[49m\u001b[43m \u001b[49m\u001b[43m:\u001b[49m\u001b[43m \u001b[49m\u001b[38;5;28;43mself\u001b[39;49m\u001b[43m.\u001b[49m\u001b[43mget_related_obj_by_name\u001b[49m\u001b[43m(\u001b[49m\n\u001b[32m    211\u001b[39m \u001b[43m        \u001b[49m\u001b[43mrelated_model\u001b[49m\u001b[43m=\u001b[49m\u001b[43mrelated_model\u001b[49m\u001b[43m,\u001b[49m\u001b[43m \u001b[49m\n\u001b[32m    212\u001b[39m \u001b[43m        \u001b[49m\u001b[43maccount\u001b[49m\u001b[43m=\u001b[49m\u001b[38;5;28;43mself\u001b[39;49m\u001b[43m.\u001b[49m\u001b[43maccount\u001b[49m\u001b[43m,\u001b[49m\n\u001b[32m    213\u001b[39m \u001b[43m        \u001b[49m\u001b[43mfilters\u001b[49m\u001b[43m=\u001b[49m\u001b[43m{\u001b[49m\u001b[43mlookup_field\u001b[49m\u001b[43m \u001b[49m\u001b[43m:\u001b[49m\u001b[43m \u001b[49m\u001b[43mfield_val\u001b[49m\u001b[43m}\u001b[49m\n\u001b[32m    214\u001b[39m \u001b[43m        \u001b[49m\u001b[43m)\u001b[49m\u001b[43m \u001b[49m\u001b[38;5;28;43;01mif\u001b[39;49;00m\u001b[43m \u001b[49m\u001b[43mfield_val\u001b[49m\u001b[43m \u001b[49m\u001b[38;5;28;43;01melse\u001b[39;49;00m\u001b[43m \u001b[49m\u001b[38;5;28;43;01mNone\u001b[39;49;00m\n\u001b[32m    215\u001b[39m \u001b[43m            \u001b[49m\u001b[43m)\u001b[49m\n\u001b[32m    216\u001b[39m df = df.drop(columns=[col])\n\u001b[32m    217\u001b[39m \u001b[38;5;28;01mcontinue\u001b[39;00m\n",
      "\u001b[36mFile \u001b[39m\u001b[32mc:\\code\\share-dinkum\\.venv\\Lib\\site-packages\\pandas\\core\\series.py:4935\u001b[39m, in \u001b[36mSeries.apply\u001b[39m\u001b[34m(self, func, convert_dtype, args, by_row, **kwargs)\u001b[39m\n\u001b[32m   4800\u001b[39m \u001b[38;5;28;01mdef\u001b[39;00m\u001b[38;5;250m \u001b[39m\u001b[34mapply\u001b[39m(\n\u001b[32m   4801\u001b[39m     \u001b[38;5;28mself\u001b[39m,\n\u001b[32m   4802\u001b[39m     func: AggFuncType,\n\u001b[32m   (...)\u001b[39m\u001b[32m   4807\u001b[39m     **kwargs,\n\u001b[32m   4808\u001b[39m ) -> DataFrame | Series:\n\u001b[32m   4809\u001b[39m \u001b[38;5;250m    \u001b[39m\u001b[33;03m\"\"\"\u001b[39;00m\n\u001b[32m   4810\u001b[39m \u001b[33;03m    Invoke function on values of Series.\u001b[39;00m\n\u001b[32m   4811\u001b[39m \n\u001b[32m   (...)\u001b[39m\u001b[32m   4926\u001b[39m \u001b[33;03m    dtype: float64\u001b[39;00m\n\u001b[32m   4927\u001b[39m \u001b[33;03m    \"\"\"\u001b[39;00m\n\u001b[32m   4928\u001b[39m     \u001b[38;5;28;01mreturn\u001b[39;00m \u001b[43mSeriesApply\u001b[49m\u001b[43m(\u001b[49m\n\u001b[32m   4929\u001b[39m \u001b[43m        \u001b[49m\u001b[38;5;28;43mself\u001b[39;49m\u001b[43m,\u001b[49m\n\u001b[32m   4930\u001b[39m \u001b[43m        \u001b[49m\u001b[43mfunc\u001b[49m\u001b[43m,\u001b[49m\n\u001b[32m   4931\u001b[39m \u001b[43m        \u001b[49m\u001b[43mconvert_dtype\u001b[49m\u001b[43m=\u001b[49m\u001b[43mconvert_dtype\u001b[49m\u001b[43m,\u001b[49m\n\u001b[32m   4932\u001b[39m \u001b[43m        \u001b[49m\u001b[43mby_row\u001b[49m\u001b[43m=\u001b[49m\u001b[43mby_row\u001b[49m\u001b[43m,\u001b[49m\n\u001b[32m   4933\u001b[39m \u001b[43m        \u001b[49m\u001b[43margs\u001b[49m\u001b[43m=\u001b[49m\u001b[43margs\u001b[49m\u001b[43m,\u001b[49m\n\u001b[32m   4934\u001b[39m \u001b[43m        \u001b[49m\u001b[43mkwargs\u001b[49m\u001b[43m=\u001b[49m\u001b[43mkwargs\u001b[49m\u001b[43m,\u001b[49m\n\u001b[32m-> \u001b[39m\u001b[32m4935\u001b[39m \u001b[43m    \u001b[49m\u001b[43m)\u001b[49m\u001b[43m.\u001b[49m\u001b[43mapply\u001b[49m\u001b[43m(\u001b[49m\u001b[43m)\u001b[49m\n",
      "\u001b[36mFile \u001b[39m\u001b[32mc:\\code\\share-dinkum\\.venv\\Lib\\site-packages\\pandas\\core\\apply.py:1422\u001b[39m, in \u001b[36mSeriesApply.apply\u001b[39m\u001b[34m(self)\u001b[39m\n\u001b[32m   1419\u001b[39m     \u001b[38;5;28;01mreturn\u001b[39;00m \u001b[38;5;28mself\u001b[39m.apply_compat()\n\u001b[32m   1421\u001b[39m \u001b[38;5;66;03m# self.func is Callable\u001b[39;00m\n\u001b[32m-> \u001b[39m\u001b[32m1422\u001b[39m \u001b[38;5;28;01mreturn\u001b[39;00m \u001b[38;5;28;43mself\u001b[39;49m\u001b[43m.\u001b[49m\u001b[43mapply_standard\u001b[49m\u001b[43m(\u001b[49m\u001b[43m)\u001b[49m\n",
      "\u001b[36mFile \u001b[39m\u001b[32mc:\\code\\share-dinkum\\.venv\\Lib\\site-packages\\pandas\\core\\apply.py:1502\u001b[39m, in \u001b[36mSeriesApply.apply_standard\u001b[39m\u001b[34m(self)\u001b[39m\n\u001b[32m   1496\u001b[39m \u001b[38;5;66;03m# row-wise access\u001b[39;00m\n\u001b[32m   1497\u001b[39m \u001b[38;5;66;03m# apply doesn't have a `na_action` keyword and for backward compat reasons\u001b[39;00m\n\u001b[32m   1498\u001b[39m \u001b[38;5;66;03m# we need to give `na_action=\"ignore\"` for categorical data.\u001b[39;00m\n\u001b[32m   1499\u001b[39m \u001b[38;5;66;03m# TODO: remove the `na_action=\"ignore\"` when that default has been changed in\u001b[39;00m\n\u001b[32m   1500\u001b[39m \u001b[38;5;66;03m#  Categorical (GH51645).\u001b[39;00m\n\u001b[32m   1501\u001b[39m action = \u001b[33m\"\u001b[39m\u001b[33mignore\u001b[39m\u001b[33m\"\u001b[39m \u001b[38;5;28;01mif\u001b[39;00m \u001b[38;5;28misinstance\u001b[39m(obj.dtype, CategoricalDtype) \u001b[38;5;28;01melse\u001b[39;00m \u001b[38;5;28;01mNone\u001b[39;00m\n\u001b[32m-> \u001b[39m\u001b[32m1502\u001b[39m mapped = \u001b[43mobj\u001b[49m\u001b[43m.\u001b[49m\u001b[43m_map_values\u001b[49m\u001b[43m(\u001b[49m\n\u001b[32m   1503\u001b[39m \u001b[43m    \u001b[49m\u001b[43mmapper\u001b[49m\u001b[43m=\u001b[49m\u001b[43mcurried\u001b[49m\u001b[43m,\u001b[49m\u001b[43m \u001b[49m\u001b[43mna_action\u001b[49m\u001b[43m=\u001b[49m\u001b[43maction\u001b[49m\u001b[43m,\u001b[49m\u001b[43m \u001b[49m\u001b[43mconvert\u001b[49m\u001b[43m=\u001b[49m\u001b[38;5;28;43mself\u001b[39;49m\u001b[43m.\u001b[49m\u001b[43mconvert_dtype\u001b[49m\n\u001b[32m   1504\u001b[39m \u001b[43m\u001b[49m\u001b[43m)\u001b[49m\n\u001b[32m   1506\u001b[39m \u001b[38;5;28;01mif\u001b[39;00m \u001b[38;5;28mlen\u001b[39m(mapped) \u001b[38;5;129;01mand\u001b[39;00m \u001b[38;5;28misinstance\u001b[39m(mapped[\u001b[32m0\u001b[39m], ABCSeries):\n\u001b[32m   1507\u001b[39m     \u001b[38;5;66;03m# GH#43986 Need to do list(mapped) in order to get treated as nested\u001b[39;00m\n\u001b[32m   1508\u001b[39m     \u001b[38;5;66;03m#  See also GH#25959 regarding EA support\u001b[39;00m\n\u001b[32m   1509\u001b[39m     \u001b[38;5;28;01mreturn\u001b[39;00m obj._constructor_expanddim(\u001b[38;5;28mlist\u001b[39m(mapped), index=obj.index)\n",
      "\u001b[36mFile \u001b[39m\u001b[32mc:\\code\\share-dinkum\\.venv\\Lib\\site-packages\\pandas\\core\\base.py:925\u001b[39m, in \u001b[36mIndexOpsMixin._map_values\u001b[39m\u001b[34m(self, mapper, na_action, convert)\u001b[39m\n\u001b[32m    922\u001b[39m \u001b[38;5;28;01mif\u001b[39;00m \u001b[38;5;28misinstance\u001b[39m(arr, ExtensionArray):\n\u001b[32m    923\u001b[39m     \u001b[38;5;28;01mreturn\u001b[39;00m arr.map(mapper, na_action=na_action)\n\u001b[32m--> \u001b[39m\u001b[32m925\u001b[39m \u001b[38;5;28;01mreturn\u001b[39;00m \u001b[43malgorithms\u001b[49m\u001b[43m.\u001b[49m\u001b[43mmap_array\u001b[49m\u001b[43m(\u001b[49m\u001b[43marr\u001b[49m\u001b[43m,\u001b[49m\u001b[43m \u001b[49m\u001b[43mmapper\u001b[49m\u001b[43m,\u001b[49m\u001b[43m \u001b[49m\u001b[43mna_action\u001b[49m\u001b[43m=\u001b[49m\u001b[43mna_action\u001b[49m\u001b[43m,\u001b[49m\u001b[43m \u001b[49m\u001b[43mconvert\u001b[49m\u001b[43m=\u001b[49m\u001b[43mconvert\u001b[49m\u001b[43m)\u001b[49m\n",
      "\u001b[36mFile \u001b[39m\u001b[32mc:\\code\\share-dinkum\\.venv\\Lib\\site-packages\\pandas\\core\\algorithms.py:1743\u001b[39m, in \u001b[36mmap_array\u001b[39m\u001b[34m(arr, mapper, na_action, convert)\u001b[39m\n\u001b[32m   1741\u001b[39m values = arr.astype(\u001b[38;5;28mobject\u001b[39m, copy=\u001b[38;5;28;01mFalse\u001b[39;00m)\n\u001b[32m   1742\u001b[39m \u001b[38;5;28;01mif\u001b[39;00m na_action \u001b[38;5;129;01mis\u001b[39;00m \u001b[38;5;28;01mNone\u001b[39;00m:\n\u001b[32m-> \u001b[39m\u001b[32m1743\u001b[39m     \u001b[38;5;28;01mreturn\u001b[39;00m \u001b[43mlib\u001b[49m\u001b[43m.\u001b[49m\u001b[43mmap_infer\u001b[49m\u001b[43m(\u001b[49m\u001b[43mvalues\u001b[49m\u001b[43m,\u001b[49m\u001b[43m \u001b[49m\u001b[43mmapper\u001b[49m\u001b[43m,\u001b[49m\u001b[43m \u001b[49m\u001b[43mconvert\u001b[49m\u001b[43m=\u001b[49m\u001b[43mconvert\u001b[49m\u001b[43m)\u001b[49m\n\u001b[32m   1744\u001b[39m \u001b[38;5;28;01melse\u001b[39;00m:\n\u001b[32m   1745\u001b[39m     \u001b[38;5;28;01mreturn\u001b[39;00m lib.map_infer_mask(\n\u001b[32m   1746\u001b[39m         values, mapper, mask=isna(values).view(np.uint8), convert=convert\n\u001b[32m   1747\u001b[39m     )\n",
      "\u001b[36mFile \u001b[39m\u001b[32mpandas/_libs/lib.pyx:2999\u001b[39m, in \u001b[36mpandas._libs.lib.map_infer\u001b[39m\u001b[34m()\u001b[39m\n",
      "\u001b[36mFile \u001b[39m\u001b[32mc:\\code\\share-dinkum\\share_dinkum_proj\\share_dinkum_app\\loading.py:210\u001b[39m, in \u001b[36mDataLoader.load_table_to_model.<locals>.<lambda>\u001b[39m\u001b[34m(field_val)\u001b[39m\n\u001b[32m    205\u001b[39m field_instance = model._meta.get_field(base_field_name)\n\u001b[32m    206\u001b[39m related_model = field_instance.related_model\n\u001b[32m    209\u001b[39m df[base_field_name] = df[col].apply(\n\u001b[32m--> \u001b[39m\u001b[32m210\u001b[39m     \u001b[38;5;28;01mlambda\u001b[39;00m field_val : \u001b[38;5;28;43mself\u001b[39;49m\u001b[43m.\u001b[49m\u001b[43mget_related_obj_by_name\u001b[49m\u001b[43m(\u001b[49m\n\u001b[32m    211\u001b[39m \u001b[43m        \u001b[49m\u001b[43mrelated_model\u001b[49m\u001b[43m=\u001b[49m\u001b[43mrelated_model\u001b[49m\u001b[43m,\u001b[49m\u001b[43m \u001b[49m\n\u001b[32m    212\u001b[39m \u001b[43m        \u001b[49m\u001b[43maccount\u001b[49m\u001b[43m=\u001b[49m\u001b[38;5;28;43mself\u001b[39;49m\u001b[43m.\u001b[49m\u001b[43maccount\u001b[49m\u001b[43m,\u001b[49m\n\u001b[32m    213\u001b[39m \u001b[43m        \u001b[49m\u001b[43mfilters\u001b[49m\u001b[43m=\u001b[49m\u001b[43m{\u001b[49m\u001b[43mlookup_field\u001b[49m\u001b[43m \u001b[49m\u001b[43m:\u001b[49m\u001b[43m \u001b[49m\u001b[43mfield_val\u001b[49m\u001b[43m}\u001b[49m\n\u001b[32m    214\u001b[39m \u001b[43m        \u001b[49m\u001b[43m)\u001b[49m \u001b[38;5;28;01mif\u001b[39;00m field_val \u001b[38;5;28;01melse\u001b[39;00m \u001b[38;5;28;01mNone\u001b[39;00m\n\u001b[32m    215\u001b[39m             )\n\u001b[32m    216\u001b[39m df = df.drop(columns=[col])\n\u001b[32m    217\u001b[39m \u001b[38;5;28;01mcontinue\u001b[39;00m\n",
      "\u001b[36mFile \u001b[39m\u001b[32mc:\\code\\share-dinkum\\share_dinkum_proj\\share_dinkum_app\\loading.py:332\u001b[39m, in \u001b[36mDataLoader.get_related_obj_by_name\u001b[39m\u001b[34m(self, related_model, account, filters)\u001b[39m\n\u001b[32m    329\u001b[39m     filters[\u001b[33m'\u001b[39m\u001b[33maccount\u001b[39m\u001b[33m'\u001b[39m] = account\n\u001b[32m    331\u001b[39m \u001b[38;5;28;01mtry\u001b[39;00m:\n\u001b[32m--> \u001b[39m\u001b[32m332\u001b[39m     \u001b[38;5;28;01mreturn\u001b[39;00m \u001b[43mrelated_model\u001b[49m\u001b[43m.\u001b[49m\u001b[43mobjects\u001b[49m\u001b[43m.\u001b[49m\u001b[43mget\u001b[49m\u001b[43m(\u001b[49m\u001b[43m*\u001b[49m\u001b[43m*\u001b[49m\u001b[43mfilters\u001b[49m\u001b[43m)\u001b[49m\n\u001b[32m    333\u001b[39m \u001b[38;5;28;01mexcept\u001b[39;00m related_model.DoesNotExist:\n\u001b[32m    334\u001b[39m     \u001b[38;5;28mprint\u001b[39m(\u001b[33mf\u001b[39m\u001b[33m\"\u001b[39m\u001b[33m[WARN] No match found for \u001b[39m\u001b[38;5;132;01m{\u001b[39;00mrelated_model.\u001b[34m__name__\u001b[39m\u001b[38;5;132;01m}\u001b[39;00m\u001b[33m with filters: \u001b[39m\u001b[38;5;132;01m{\u001b[39;00mfilters\u001b[38;5;132;01m}\u001b[39;00m\u001b[33m\"\u001b[39m)\n",
      "\u001b[36mFile \u001b[39m\u001b[32mc:\\code\\share-dinkum\\.venv\\Lib\\site-packages\\django\\db\\models\\manager.py:87\u001b[39m, in \u001b[36mBaseManager._get_queryset_methods.<locals>.create_method.<locals>.manager_method\u001b[39m\u001b[34m(self, *args, **kwargs)\u001b[39m\n\u001b[32m     85\u001b[39m \u001b[38;5;129m@wraps\u001b[39m(method)\n\u001b[32m     86\u001b[39m \u001b[38;5;28;01mdef\u001b[39;00m\u001b[38;5;250m \u001b[39m\u001b[34mmanager_method\u001b[39m(\u001b[38;5;28mself\u001b[39m, *args, **kwargs):\n\u001b[32m---> \u001b[39m\u001b[32m87\u001b[39m     \u001b[38;5;28;01mreturn\u001b[39;00m \u001b[38;5;28;43mgetattr\u001b[39;49m\u001b[43m(\u001b[49m\u001b[38;5;28;43mself\u001b[39;49m\u001b[43m.\u001b[49m\u001b[43mget_queryset\u001b[49m\u001b[43m(\u001b[49m\u001b[43m)\u001b[49m\u001b[43m,\u001b[49m\u001b[43m \u001b[49m\u001b[43mname\u001b[49m\u001b[43m)\u001b[49m\u001b[43m(\u001b[49m\u001b[43m*\u001b[49m\u001b[43margs\u001b[49m\u001b[43m,\u001b[49m\u001b[43m \u001b[49m\u001b[43m*\u001b[49m\u001b[43m*\u001b[49m\u001b[43mkwargs\u001b[49m\u001b[43m)\u001b[49m\n",
      "\u001b[36mFile \u001b[39m\u001b[32mc:\\code\\share-dinkum\\.venv\\Lib\\site-packages\\djmoney\\models\\managers.py:207\u001b[39m, in \u001b[36munderstands_money.<locals>.wrapper\u001b[39m\u001b[34m(*args, **kwargs)\u001b[39m\n\u001b[32m    205\u001b[39m exclusions = EXPAND_EXCLUSIONS.get(func.\u001b[34m__name__\u001b[39m, ())\n\u001b[32m    206\u001b[39m args, kwargs = _expand_money_kwargs(model, args, kwargs, exclusions)\n\u001b[32m--> \u001b[39m\u001b[32m207\u001b[39m queryset = \u001b[43mfunc\u001b[49m\u001b[43m(\u001b[49m\u001b[43m*\u001b[49m\u001b[43margs\u001b[49m\u001b[43m,\u001b[49m\u001b[43m \u001b[49m\u001b[43m*\u001b[49m\u001b[43m*\u001b[49m\u001b[43mkwargs\u001b[49m\u001b[43m)\u001b[49m\n\u001b[32m    208\u001b[39m \u001b[38;5;28;01mreturn\u001b[39;00m add_money_comprehension_to_queryset(queryset)\n",
      "\u001b[36mFile \u001b[39m\u001b[32mc:\\code\\share-dinkum\\.venv\\Lib\\site-packages\\django\\db\\models\\query.py:629\u001b[39m, in \u001b[36mQuerySet.get\u001b[39m\u001b[34m(self, *args, **kwargs)\u001b[39m\n\u001b[32m    627\u001b[39m     limit = MAX_GET_RESULTS\n\u001b[32m    628\u001b[39m     clone.query.set_limits(high=limit)\n\u001b[32m--> \u001b[39m\u001b[32m629\u001b[39m num = \u001b[38;5;28;43mlen\u001b[39;49m\u001b[43m(\u001b[49m\u001b[43mclone\u001b[49m\u001b[43m)\u001b[49m\n\u001b[32m    630\u001b[39m \u001b[38;5;28;01mif\u001b[39;00m num == \u001b[32m1\u001b[39m:\n\u001b[32m    631\u001b[39m     \u001b[38;5;28;01mreturn\u001b[39;00m clone._result_cache[\u001b[32m0\u001b[39m]\n",
      "\u001b[36mFile \u001b[39m\u001b[32mc:\\code\\share-dinkum\\.venv\\Lib\\site-packages\\django\\db\\models\\query.py:366\u001b[39m, in \u001b[36mQuerySet.__len__\u001b[39m\u001b[34m(self)\u001b[39m\n\u001b[32m    365\u001b[39m \u001b[38;5;28;01mdef\u001b[39;00m\u001b[38;5;250m \u001b[39m\u001b[34m__len__\u001b[39m(\u001b[38;5;28mself\u001b[39m):\n\u001b[32m--> \u001b[39m\u001b[32m366\u001b[39m     \u001b[38;5;28;43mself\u001b[39;49m\u001b[43m.\u001b[49m\u001b[43m_fetch_all\u001b[49m\u001b[43m(\u001b[49m\u001b[43m)\u001b[49m\n\u001b[32m    367\u001b[39m     \u001b[38;5;28;01mreturn\u001b[39;00m \u001b[38;5;28mlen\u001b[39m(\u001b[38;5;28mself\u001b[39m._result_cache)\n",
      "\u001b[36mFile \u001b[39m\u001b[32mc:\\code\\share-dinkum\\.venv\\Lib\\site-packages\\django\\db\\models\\query.py:1949\u001b[39m, in \u001b[36mQuerySet._fetch_all\u001b[39m\u001b[34m(self)\u001b[39m\n\u001b[32m   1947\u001b[39m \u001b[38;5;28;01mdef\u001b[39;00m\u001b[38;5;250m \u001b[39m\u001b[34m_fetch_all\u001b[39m(\u001b[38;5;28mself\u001b[39m):\n\u001b[32m   1948\u001b[39m     \u001b[38;5;28;01mif\u001b[39;00m \u001b[38;5;28mself\u001b[39m._result_cache \u001b[38;5;129;01mis\u001b[39;00m \u001b[38;5;28;01mNone\u001b[39;00m:\n\u001b[32m-> \u001b[39m\u001b[32m1949\u001b[39m         \u001b[38;5;28mself\u001b[39m._result_cache = \u001b[38;5;28;43mlist\u001b[39;49m\u001b[43m(\u001b[49m\u001b[38;5;28;43mself\u001b[39;49m\u001b[43m.\u001b[49m\u001b[43m_iterable_class\u001b[49m\u001b[43m(\u001b[49m\u001b[38;5;28;43mself\u001b[39;49m\u001b[43m)\u001b[49m\u001b[43m)\u001b[49m\n\u001b[32m   1950\u001b[39m     \u001b[38;5;28;01mif\u001b[39;00m \u001b[38;5;28mself\u001b[39m._prefetch_related_lookups \u001b[38;5;129;01mand\u001b[39;00m \u001b[38;5;129;01mnot\u001b[39;00m \u001b[38;5;28mself\u001b[39m._prefetch_done:\n\u001b[32m   1951\u001b[39m         \u001b[38;5;28mself\u001b[39m._prefetch_related_objects()\n",
      "\u001b[36mFile \u001b[39m\u001b[32mc:\\code\\share-dinkum\\.venv\\Lib\\site-packages\\django\\db\\models\\query.py:124\u001b[39m, in \u001b[36mModelIterable.__iter__\u001b[39m\u001b[34m(self)\u001b[39m\n\u001b[32m    106\u001b[39m known_related_objects = [\n\u001b[32m    107\u001b[39m     (\n\u001b[32m    108\u001b[39m         field,\n\u001b[32m   (...)\u001b[39m\u001b[32m    121\u001b[39m     \u001b[38;5;28;01mfor\u001b[39;00m field, related_objs \u001b[38;5;129;01min\u001b[39;00m queryset._known_related_objects.items()\n\u001b[32m    122\u001b[39m ]\n\u001b[32m    123\u001b[39m \u001b[38;5;28;01mfor\u001b[39;00m row \u001b[38;5;129;01min\u001b[39;00m compiler.results_iter(results):\n\u001b[32m--> \u001b[39m\u001b[32m124\u001b[39m     obj = \u001b[43mmodel_cls\u001b[49m\u001b[43m.\u001b[49m\u001b[43mfrom_db\u001b[49m\u001b[43m(\u001b[49m\n\u001b[32m    125\u001b[39m \u001b[43m        \u001b[49m\u001b[43mdb\u001b[49m\u001b[43m,\u001b[49m\u001b[43m \u001b[49m\u001b[43minit_list\u001b[49m\u001b[43m,\u001b[49m\u001b[43m \u001b[49m\u001b[43mrow\u001b[49m\u001b[43m[\u001b[49m\u001b[43mmodel_fields_start\u001b[49m\u001b[43m:\u001b[49m\u001b[43mmodel_fields_end\u001b[49m\u001b[43m]\u001b[49m\n\u001b[32m    126\u001b[39m \u001b[43m    \u001b[49m\u001b[43m)\u001b[49m\n\u001b[32m    127\u001b[39m     \u001b[38;5;28;01mfor\u001b[39;00m rel_populator \u001b[38;5;129;01min\u001b[39;00m related_populators:\n\u001b[32m    128\u001b[39m         rel_populator.populate(row, obj)\n",
      "\u001b[36mFile \u001b[39m\u001b[32mc:\\code\\share-dinkum\\.venv\\Lib\\site-packages\\django\\db\\models\\base.py:584\u001b[39m, in \u001b[36mModel.from_db\u001b[39m\u001b[34m(cls, db, field_names, values)\u001b[39m\n\u001b[32m    579\u001b[39m     values_iter = \u001b[38;5;28miter\u001b[39m(values)\n\u001b[32m    580\u001b[39m     values = [\n\u001b[32m    581\u001b[39m         \u001b[38;5;28mnext\u001b[39m(values_iter) \u001b[38;5;28;01mif\u001b[39;00m f.attname \u001b[38;5;129;01min\u001b[39;00m field_names \u001b[38;5;28;01melse\u001b[39;00m DEFERRED\n\u001b[32m    582\u001b[39m         \u001b[38;5;28;01mfor\u001b[39;00m f \u001b[38;5;129;01min\u001b[39;00m \u001b[38;5;28mcls\u001b[39m._meta.concrete_fields\n\u001b[32m    583\u001b[39m     ]\n\u001b[32m--> \u001b[39m\u001b[32m584\u001b[39m new = \u001b[38;5;28;43mcls\u001b[39;49m\u001b[43m(\u001b[49m\u001b[43m*\u001b[49m\u001b[43mvalues\u001b[49m\u001b[43m)\u001b[49m\n\u001b[32m    585\u001b[39m new._state.adding = \u001b[38;5;28;01mFalse\u001b[39;00m\n\u001b[32m    586\u001b[39m new._state.db = db\n",
      "\u001b[36mFile \u001b[39m\u001b[32mc:\\code\\share-dinkum\\.venv\\Lib\\site-packages\\django\\db\\models\\base.py:493\u001b[39m, in \u001b[36mModel.__init__\u001b[39m\u001b[34m(self, *args, **kwargs)\u001b[39m\n\u001b[32m    491\u001b[39m         \u001b[38;5;28;01mif\u001b[39;00m val \u001b[38;5;129;01mis\u001b[39;00m _DEFERRED:\n\u001b[32m    492\u001b[39m             \u001b[38;5;28;01mcontinue\u001b[39;00m\n\u001b[32m--> \u001b[39m\u001b[32m493\u001b[39m         \u001b[43m_setattr\u001b[49m\u001b[43m(\u001b[49m\u001b[38;5;28;43mself\u001b[39;49m\u001b[43m,\u001b[49m\u001b[43m \u001b[49m\u001b[43mfield\u001b[49m\u001b[43m.\u001b[49m\u001b[43mattname\u001b[49m\u001b[43m,\u001b[49m\u001b[43m \u001b[49m\u001b[43mval\u001b[49m\u001b[43m)\u001b[49m\n\u001b[32m    494\u001b[39m \u001b[38;5;28;01melse\u001b[39;00m:\n\u001b[32m    495\u001b[39m     \u001b[38;5;66;03m# Slower, kwargs-ready version.\u001b[39;00m\n\u001b[32m    496\u001b[39m     fields_iter = \u001b[38;5;28miter\u001b[39m(opts.fields)\n",
      "\u001b[36mFile \u001b[39m\u001b[32mc:\\code\\share-dinkum\\.venv\\Lib\\site-packages\\djmoney\\models\\fields.py:116\u001b[39m, in \u001b[36mMoneyFieldProxy.__set__\u001b[39m\u001b[34m(self, obj, value)\u001b[39m\n\u001b[32m    108\u001b[39m \u001b[38;5;28;01mdef\u001b[39;00m\u001b[38;5;250m \u001b[39m\u001b[34m__set__\u001b[39m(\u001b[38;5;28mself\u001b[39m, obj, value):  \u001b[38;5;66;03m# noqa\u001b[39;00m\n\u001b[32m    109\u001b[39m     \u001b[38;5;28;01mif\u001b[39;00m (\n\u001b[32m    110\u001b[39m         value \u001b[38;5;129;01mis\u001b[39;00m \u001b[38;5;129;01mnot\u001b[39;00m \u001b[38;5;28;01mNone\u001b[39;00m\n\u001b[32m    111\u001b[39m         \u001b[38;5;129;01mand\u001b[39;00m \u001b[38;5;28mself\u001b[39m.field._currency_field.null\n\u001b[32m   (...)\u001b[39m\u001b[32m    114\u001b[39m     ):\n\u001b[32m    115\u001b[39m         \u001b[38;5;66;03m# For nullable fields we need either both NULL amount and currency or both NOT NULL\u001b[39;00m\n\u001b[32m--> \u001b[39m\u001b[32m116\u001b[39m         \u001b[38;5;28;01mraise\u001b[39;00m \u001b[38;5;167;01mValueError\u001b[39;00m(\u001b[33m\"\u001b[39m\u001b[33mMissing currency value\u001b[39m\u001b[33m\"\u001b[39m)\n\u001b[32m    117\u001b[39m     \u001b[38;5;28;01mif\u001b[39;00m \u001b[38;5;28misinstance\u001b[39m(value, BaseExpression):\n\u001b[32m    118\u001b[39m         \u001b[38;5;28;01mif\u001b[39;00m \u001b[38;5;28misinstance\u001b[39m(value, Value):\n",
      "\u001b[31mValueError\u001b[39m: Missing currency value"
     ]
    }
   ],
   "source": [
    "selection = 'sample_data'\n",
    "\n",
    "if defaults['own_data']['input_file'].exists():\n",
    "    res = input(\"Personal import file exists. Do you want to use it? (y/n): \")\n",
    "    if res.upper() == 'Y':\n",
    "        selection = 'own_data'\n",
    "        logger.info('Using own data')\n",
    "    else:\n",
    "        selection = 'sample_data'\n",
    "        logger.info('Using generic data')\n",
    "\n",
    "\n",
    "input_file = defaults[selection]['input_file']\n",
    "\n",
    "account = await add_account(selection=selection)\n",
    "\n",
    "await load_all_data(account=account, input_file=input_file)"
   ]
  },
  {
   "cell_type": "code",
   "execution_count": null,
   "metadata": {},
   "outputs": [],
   "source": [
    "from djmoney.money import Money\n",
    "\n",
    "1  + None"
   ]
  },
  {
   "cell_type": "code",
   "execution_count": null,
   "metadata": {},
   "outputs": [],
   "source": [
    "# You can ignore this cell\n",
    "\n",
    "legacy_db = Path(r'C:\\code\\finance-database\\finance-database.db')\n",
    "\n",
    "if selection == 'own_data' and legacy_db.exists():\n",
    "    query = \"SELECT * FROM [price_history] where ticker_code != 'AUDUSD=X'\"\n",
    "    parameters = None\n",
    "    with sqlite3.connect(legacy_db) as conn:\n",
    "        df = pd.read_sql_query(query, conn, params=parameters)\n",
    "    df['account'] = account\n",
    "    df['instrument__name'] = df['ticker_code'].apply(lambda x : x.split('.')[0])\n",
    "    df['date'] = df['date'].apply(lambda x : date.fromisoformat(x))\n",
    "    df = df.drop(columns=['id', 'ticker_code', 'capital_gains', 'dividends'])\n",
    "    df = df[~df['high'].isna()]\n",
    "\n",
    "    \n",
    "    await load_historical_prices(df=df, account=account)"
   ]
  },
  {
   "cell_type": "code",
   "execution_count": null,
   "metadata": {},
   "outputs": [],
   "source": [
    "await update_all_price_history(account=account)"
   ]
  },
  {
   "cell_type": "code",
   "execution_count": null,
   "metadata": {},
   "outputs": [],
   "source": []
  }
 ],
 "metadata": {
  "kernelspec": {
   "display_name": "share-dinkum",
   "language": "python",
   "name": "python3"
  },
  "language_info": {
   "codemirror_mode": {
    "name": "ipython",
    "version": 3
   },
   "file_extension": ".py",
   "mimetype": "text/x-python",
   "name": "python",
   "nbconvert_exporter": "python",
   "pygments_lexer": "ipython3",
   "version": "3.13.3"
  }
 },
 "nbformat": 4,
 "nbformat_minor": 2
}
