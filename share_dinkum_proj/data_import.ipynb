{
 "cells": [
  {
   "cell_type": "markdown",
   "metadata": {},
   "source": [
    "### Code definitions"
   ]
  },
  {
   "cell_type": "code",
   "execution_count": 1,
   "metadata": {},
   "outputs": [],
   "source": [
    "import os\n",
    "import sys\n",
    "from pathlib import Path\n",
    "from asgiref.sync import sync_to_async\n",
    "import string\n",
    "import pandas as  pd\n",
    "from datetime import date\n",
    "import yfinance as yf\n",
    "import sqlite3\n",
    "\n",
    "module_path = os.path.abspath(os.path.join('..'))\n",
    "if module_path not in sys.path:\n",
    "    sys.path.append(module_path)\n",
    "\n",
    "os.environ.setdefault('DJANGO_SETTINGS_MODULE', 'share_dinkum_proj.settings')\n",
    "\n",
    "import django\n",
    "django.setup()\n",
    "\n",
    "from django.conf import settings\n",
    "import share_dinkum_app.models as app_models\n",
    "\n",
    "from share_dinkum_app import loading\n",
    "\n",
    "import logging\n",
    "logger = logging.getLogger(__name__)\n",
    "\n",
    "\n",
    "import_data_folder = settings.BASE_DIR / 'share_dinkum_app' / 'import_data'\n",
    "\n",
    "personal_data = import_data_folder / 'data_import_template_personal.xlsx'\n",
    "sample_data = import_data_folder / 'data_import_template_public.xlsx'\n",
    "\n",
    "\n",
    "defaults = {\n",
    "    'sample_data' : {\n",
    "        'default_name' : 'sample_data',\n",
    "        'default_email' : 'sample_data@example.com',\n",
    "        'password' : 'password',\n",
    "        'default_portfolio_description' : 'Sample Data Portfolio',\n",
    "        'input_file' : sample_data,\n",
    "    },\n",
    "    'own_data' : {\n",
    "        'default_name' : 'admin',\n",
    "        'default_email' : 'admin@example.com',\n",
    "        'password' : 'password',\n",
    "        'default_portfolio_description' : 'Default Portfolio',\n",
    "        'input_file' : personal_data,\n",
    "    },\n",
    "}\n",
    "\n",
    "\n",
    "@sync_to_async\n",
    "def add_account(selection='sample_data'):\n",
    "\n",
    "    default_name = defaults[selection]['default_name']\n",
    "    default_email = defaults[selection]['default_email']\n",
    "    password = defaults[selection]['password']\n",
    "    default_portfolio_description = defaults[selection]['default_portfolio_description']\n",
    "\n",
    "    \n",
    "    fiscal_year_type, created = app_models.FiscalYearType.objects.get_or_create(\n",
    "        description='Australian Tax Year',\n",
    "        defaults={'start_month': 7, 'start_day': 1}\n",
    "    )\n",
    "\n",
    "    if not app_models.AppUser.objects.filter(username=default_name).exists():\n",
    "        user = app_models.AppUser.objects.create_superuser(username=default_name, email=default_email, password=password)   # Please change this password after logging in\n",
    "        logger.info(\"Superuser created successfully!\")\n",
    "    owner = app_models.AppUser.objects.get(username=default_name)\n",
    "\n",
    "    record = {'description': default_portfolio_description, 'owner': owner, 'fiscal_year_type': fiscal_year_type}\n",
    "    account, created = app_models.Account.objects.get_or_create(description=default_portfolio_description, defaults=record)\n",
    "    return account\n",
    "\n",
    "@sync_to_async\n",
    "def clear_all_data():\n",
    "    loading.DataLoader.clear_all_data()\n",
    "    try:\n",
    "        del account # To avoid stale references\n",
    "    except NameError:\n",
    "        pass\n",
    "\n",
    "@sync_to_async\n",
    "def load_all_data(account, input_file):\n",
    "    loading.DataLoader(account=account, input_file=input_file)\n",
    "\n",
    "@sync_to_async\n",
    "def load_historical_prices(df, account):\n",
    "    loader = loading.DataLoader(account=account, input_file=None)\n",
    "    loader.load_table_to_model(model=app_models.InstrumentPriceHistory, df=df)\n",
    "    \n",
    "@sync_to_async\n",
    "def update_all_history(account):\n",
    "    account.update_all_price_history()\n",
    "    account.update_all_exchange_rate_history()\n",
    "    account.save()\n",
    "\n",
    "@sync_to_async\n",
    "def backup(name='main'):\n",
    "    backup_path = Path('backups') / name\n",
    "    loading.DataBackupManager.backup(backup_path)\n",
    "\n",
    "@sync_to_async\n",
    "def restore(name='main'):\n",
    "    backup_path = Path('backups') / name\n",
    "    loading.DataBackupManager.restore(backup_path)\n",
    "\n",
    "\n",
    "def get_selection():\n",
    "\n",
    "    selection = 'sample_data'\n",
    "\n",
    "    if defaults['own_data']['input_file'].exists():\n",
    "        res = input(\"Personal import file exists. Do you want to use it? (y/n): \")\n",
    "        if res.upper() == 'Y':\n",
    "            selection = 'own_data'\n",
    "            logger.info('Using own data')\n",
    "        else:\n",
    "            selection = 'sample_data'\n",
    "            logger.info('Using generic data')\n",
    "        \n",
    "        return selection\n"
   ]
  },
  {
   "cell_type": "markdown",
   "metadata": {},
   "source": [
    "### Clear current data"
   ]
  },
  {
   "cell_type": "code",
   "execution_count": 2,
   "metadata": {},
   "outputs": [
    {
     "name": "stdout",
     "output_type": "stream",
     "text": [
      "2025-08-30 15:09:15 [INFO] share_dinkum_app.loading: Deleted all models\n",
      "2025-08-30 15:09:15 [INFO] share_dinkum_app.loading: Forcefully deleted and recreated folder: C:\\code\\share-dinkum\\share_dinkum_proj\\media\n"
     ]
    }
   ],
   "source": [
    "await clear_all_data()"
   ]
  },
  {
   "cell_type": "markdown",
   "metadata": {},
   "source": [
    "### Load data"
   ]
  },
  {
   "cell_type": "code",
   "execution_count": 3,
   "metadata": {},
   "outputs": [
    {
     "name": "stdout",
     "output_type": "stream",
     "text": [
      "2025-08-30 15:09:19 [INFO] __main__: Using generic data\n",
      "2025-08-30 15:09:20 [INFO] __main__: Superuser created successfully!\n",
      "2025-08-30 15:09:20 [INFO] share_dinkum_app.loading: Loading Market\n"
     ]
    },
    {
     "name": "stderr",
     "output_type": "stream",
     "text": [
      "100%|██████████| 11/11 [00:00<00:00, 166.84it/s]"
     ]
    },
    {
     "name": "stdout",
     "output_type": "stream",
     "text": [
      "2025-08-30 15:09:20 [INFO] share_dinkum_app.loading: Loading Instrument\n"
     ]
    },
    {
     "name": "stderr",
     "output_type": "stream",
     "text": [
      "\n",
      "100%|██████████| 2349/2349 [00:25<00:00, 91.18it/s]"
     ]
    },
    {
     "name": "stdout",
     "output_type": "stream",
     "text": [
      "2025-08-30 15:09:47 [INFO] share_dinkum_app.loading: Loading Buy\n",
      "2025-08-30 15:09:47 [ERROR] share_dinkum_app.utils.filefield_operations: File C:\\full_path_to_file\\file.pdf does not exist.\n",
      "2025-08-30 15:09:47 [ERROR] share_dinkum_app.utils.filefield_operations: File C:\\full_path_to_file\\file.pdf does not exist.\n"
     ]
    },
    {
     "name": "stderr",
     "output_type": "stream",
     "text": [
      "\n",
      "100%|██████████| 39/39 [00:02<00:00, 14.68it/s]"
     ]
    },
    {
     "name": "stdout",
     "output_type": "stream",
     "text": [
      "2025-08-30 15:09:49 [INFO] share_dinkum_app.loading: Loading Sell\n",
      "2025-08-30 15:09:49 [ERROR] share_dinkum_app.utils.filefield_operations: File C:\\full_path_to_file\\file.pdf does not exist.\n"
     ]
    },
    {
     "name": "stderr",
     "output_type": "stream",
     "text": [
      "\n",
      "100%|██████████| 3/3 [00:00<00:00, 23.09it/s]"
     ]
    },
    {
     "name": "stdout",
     "output_type": "stream",
     "text": [
      "2025-08-30 15:09:50 [INFO] share_dinkum_app.loading: Loading SellAllocation\n"
     ]
    },
    {
     "name": "stderr",
     "output_type": "stream",
     "text": [
      "\n",
      "100%|██████████| 12/12 [00:00<00:00, 16.15it/s]"
     ]
    },
    {
     "name": "stdout",
     "output_type": "stream",
     "text": [
      "2025-08-30 15:09:50 [INFO] share_dinkum_app.loading: Loading ShareSplit\n"
     ]
    },
    {
     "name": "stderr",
     "output_type": "stream",
     "text": [
      "\n",
      "0it [00:00, ?it/s]"
     ]
    },
    {
     "name": "stdout",
     "output_type": "stream",
     "text": [
      "2025-08-30 15:09:50 [INFO] share_dinkum_app.loading: Loading CostBaseAdjustment\n",
      "2025-08-30 15:09:50 [ERROR] share_dinkum_app.utils.filefield_operations: File C:\\full_path_to_file\\file.pdf does not exist.\n",
      "2025-08-30 15:09:50 [ERROR] share_dinkum_app.utils.filefield_operations: File C:\\full_path_to_file\\file.pdf does not exist.\n"
     ]
    },
    {
     "name": "stderr",
     "output_type": "stream",
     "text": [
      "\n",
      "100%|██████████| 15/15 [00:03<00:00,  4.13it/s]"
     ]
    },
    {
     "name": "stdout",
     "output_type": "stream",
     "text": [
      "2025-08-30 15:09:54 [INFO] share_dinkum_app.loading: Loading Dividend\n",
      "2025-08-30 15:09:54 [ERROR] share_dinkum_app.utils.filefield_operations: File C:\\full_path_to_file\\file.pdf does not exist.\n",
      "2025-08-30 15:09:54 [ERROR] share_dinkum_app.utils.filefield_operations: File C:\\full_path_to_file\\file.pdf does not exist.\n"
     ]
    },
    {
     "name": "stderr",
     "output_type": "stream",
     "text": [
      "\n",
      "100%|██████████| 8/8 [00:00<00:00, 63.22it/s]"
     ]
    },
    {
     "name": "stdout",
     "output_type": "stream",
     "text": [
      "2025-08-30 15:09:54 [INFO] share_dinkum_app.loading: Loading Distribution\n",
      "2025-08-30 15:09:54 [ERROR] share_dinkum_app.utils.filefield_operations: File C:\\full_path_to_file\\file.pdf does not exist.\n",
      "2025-08-30 15:09:54 [ERROR] share_dinkum_app.utils.filefield_operations: File C:\\full_path_to_file\\file.pdf does not exist.\n"
     ]
    },
    {
     "name": "stderr",
     "output_type": "stream",
     "text": [
      "\n",
      "100%|██████████| 58/58 [00:00<00:00, 90.16it/s]\n"
     ]
    }
   ],
   "source": [
    "selection = get_selection()\n",
    "input_file = defaults[selection]['input_file']\n",
    "account = await add_account(selection=selection)\n",
    "await load_all_data(account=account, input_file=input_file)"
   ]
  },
  {
   "cell_type": "markdown",
   "metadata": {},
   "source": [
    "### Load historical data from a different database"
   ]
  },
  {
   "cell_type": "code",
   "execution_count": null,
   "metadata": {},
   "outputs": [],
   "source": [
    "# You can ignore this cell\n",
    "\n",
    "legacy_db = Path(r'C:\\code\\finance-database\\finance-database.db')\n",
    "\n",
    "if selection == 'own_data' and legacy_db.exists():\n",
    "    query = \"SELECT * FROM [price_history] where ticker_code != 'AUDUSD=X'\"\n",
    "    parameters = None\n",
    "    with sqlite3.connect(legacy_db) as conn:\n",
    "        df = pd.read_sql_query(query, conn, params=parameters)\n",
    "    df['account'] = account\n",
    "    df['instrument__name'] = df['ticker_code'].apply(lambda x : x.split('.')[0])\n",
    "    df['date'] = df['date'].apply(lambda x : date.fromisoformat(x))\n",
    "    df = df.drop(columns=['id', 'ticker_code', 'capital_gains', 'dividends'])\n",
    "    df = df[~df['high'].isna()]\n",
    "\n",
    "    await load_historical_prices(df=df, account=account)"
   ]
  },
  {
   "cell_type": "markdown",
   "metadata": {},
   "source": [
    "### Update price history"
   ]
  },
  {
   "cell_type": "code",
   "execution_count": 4,
   "metadata": {},
   "outputs": [
    {
     "name": "stdout",
     "output_type": "stream",
     "text": [
      "2025-08-30 15:10:03 [INFO] share_dinkum_app.yfinanceinterface: Fetching price history for VGS.AX\n",
      "2025-08-30 15:10:04 [INFO] share_dinkum_app.yfinanceinterface: Fetching price history for AFI.AX\n"
     ]
    }
   ],
   "source": [
    "await update_all_history(account=account)"
   ]
  },
  {
   "cell_type": "markdown",
   "metadata": {},
   "source": [
    "### Data backup"
   ]
  },
  {
   "cell_type": "code",
   "execution_count": null,
   "metadata": {},
   "outputs": [
    {
     "name": "stdout",
     "output_type": "stream",
     "text": [
      "2025-08-30 15:10:16 [INFO] share_dinkum_app.loading: Creating DataExport for 1 accounts\n",
      "2025-08-30 15:10:16 [INFO] share_dinkum_app.signals: Starting data export process.\n",
      "2025-08-30 15:10:16 [INFO] share_dinkum_app.signals:     - AppUser\n",
      "2025-08-30 15:10:16 [INFO] share_dinkum_app.signals:     - FiscalYearType\n",
      "2025-08-30 15:10:16 [INFO] share_dinkum_app.signals:     - FiscalYear\n",
      "2025-08-30 15:10:16 [INFO] share_dinkum_app.signals:     - Account\n",
      "2025-08-30 15:10:16 [INFO] share_dinkum_app.signals:     - LogEntry\n",
      "2025-08-30 15:10:16 [INFO] share_dinkum_app.signals:     - ExchangeRate\n",
      "2025-08-30 15:10:16 [INFO] share_dinkum_app.signals:     - Market\n",
      "2025-08-30 15:10:16 [INFO] share_dinkum_app.signals:     - Instrument\n",
      "2025-08-30 15:10:17 [INFO] share_dinkum_app.signals:     - InstrumentPriceHistory\n",
      "2025-08-30 15:10:17 [INFO] share_dinkum_app.signals:     - Buy\n",
      "2025-08-30 15:10:18 [INFO] share_dinkum_app.signals:     - Sell\n",
      "2025-08-30 15:10:18 [INFO] share_dinkum_app.signals:     - Parcel\n",
      "2025-08-30 15:10:18 [INFO] share_dinkum_app.signals:     - SellAllocation\n",
      "2025-08-30 15:10:18 [INFO] share_dinkum_app.signals:     - ShareSplit\n",
      "2025-08-30 15:10:18 [INFO] share_dinkum_app.signals:     - CostBaseAdjustment\n",
      "2025-08-30 15:10:18 [INFO] share_dinkum_app.signals:     - CostBaseAdjustmentAllocation\n",
      "2025-08-30 15:10:18 [INFO] share_dinkum_app.signals:     - Dividend\n",
      "2025-08-30 15:10:18 [INFO] share_dinkum_app.signals:     - Distribution\n",
      "2025-08-30 15:10:18 [INFO] share_dinkum_app.signals:     - DataExport\n",
      "2025-08-30 15:10:19 [INFO] share_dinkum_app.signals: Data export process completed successfully.\n",
      "2025-08-30 15:10:19 [INFO] share_dinkum_app.loading: Backing up SQLite DB from db.sqlite3 to backups\\temp\\db.sqlite3\n",
      "2025-08-30 15:10:19 [INFO] share_dinkum_app.loading: Backup completed successfully at backups\\temp\n"
     ]
    }
   ],
   "source": [
    "await backup(name='main')"
   ]
  },
  {
   "cell_type": "markdown",
   "metadata": {},
   "source": [
    "#### Data Restore"
   ]
  },
  {
   "cell_type": "code",
   "execution_count": null,
   "metadata": {},
   "outputs": [
    {
     "name": "stdout",
     "output_type": "stream",
     "text": [
      "2025-08-30 15:10:50 [INFO] share_dinkum_app.loading: Restoring SQLite DB from backups\\main\\db.sqlite3 to db.sqlite3\n",
      "2025-08-30 15:10:50 [INFO] share_dinkum_app.loading: Restore completed successfully.\n"
     ]
    }
   ],
   "source": [
    "# This overwrites existing data!\n",
    "# await restore(name='main')"
   ]
  }
 ],
 "metadata": {
  "kernelspec": {
   "display_name": "share-dinkum",
   "language": "python",
   "name": "python3"
  },
  "language_info": {
   "codemirror_mode": {
    "name": "ipython",
    "version": 3
   },
   "file_extension": ".py",
   "mimetype": "text/x-python",
   "name": "python",
   "nbconvert_exporter": "python",
   "pygments_lexer": "ipython3",
   "version": "3.13.3"
  }
 },
 "nbformat": 4,
 "nbformat_minor": 2
}
