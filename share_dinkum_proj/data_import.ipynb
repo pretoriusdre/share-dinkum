{
 "cells": [
  {
   "cell_type": "markdown",
   "metadata": {},
   "source": [
    "### Code definitions"
   ]
  },
  {
   "cell_type": "code",
   "execution_count": 1,
   "metadata": {},
   "outputs": [],
   "source": [
    "import os\n",
    "import sys\n",
    "from pathlib import Path\n",
    "from asgiref.sync import sync_to_async\n",
    "import string\n",
    "import pandas as  pd\n",
    "from datetime import date\n",
    "import yfinance as yf\n",
    "import sqlite3\n",
    "\n",
    "module_path = os.path.abspath(os.path.join('..'))\n",
    "if module_path not in sys.path:\n",
    "    sys.path.append(module_path)\n",
    "\n",
    "os.environ.setdefault('DJANGO_SETTINGS_MODULE', 'share_dinkum_proj.settings')\n",
    "\n",
    "import django\n",
    "django.setup()\n",
    "\n",
    "from django.conf import settings\n",
    "import share_dinkum_app.models as app_models\n",
    "\n",
    "from share_dinkum_app import loading"
   ]
  },
  {
   "cell_type": "code",
   "execution_count": 2,
   "metadata": {},
   "outputs": [],
   "source": [
    "@sync_to_async\n",
    "def add_default_account(\n",
    "    default_name='admin',\n",
    "    default_email='admin@example.com',\n",
    "    password='password',\n",
    "    default_portfolio_description = 'Default Portfolio'\n",
    "    ):\n",
    "    \n",
    "    fiscal_year_type, created = app_models.FiscalYearType.objects.get_or_create(\n",
    "        description='Australian Tax Year',\n",
    "        defaults={'start_month': 7, 'start_day': 1}\n",
    "    )\n",
    "\n",
    "    if not app_models.AppUser.objects.filter(username=default_name).exists():\n",
    "        user = app_models.AppUser.objects.create_superuser(username=default_name, email=default_email, password=password)   # Please change this password after logging in\n",
    "        print(\"Superuser created successfully!\")\n",
    "    owner = app_models.AppUser.objects.get(username=default_name)\n",
    "\n",
    "    record = {'description': default_portfolio_description, 'owner': owner, 'fiscal_year_type': fiscal_year_type}\n",
    "    account, created = app_models.Account.objects.get_or_create(description=default_portfolio_description, defaults=record)\n",
    "    return account\n",
    "\n",
    "@sync_to_async\n",
    "def clear_all_data():\n",
    "    loading.clear_all_data()\n",
    "\n",
    "@sync_to_async\n",
    "def load_all_data(account, input_file):\n",
    "    loading.DataLoader(account=account, input_file=input_file)\n",
    "\n",
    "@sync_to_async\n",
    "def load_historical_prices(df, account):\n",
    "    loader = loading.DataLoader(account=account, input_file=None)\n",
    "    loader.load_table_to_model(model=app_models.InstrumentPriceHistory, df=df)\n",
    "    \n",
    "@sync_to_async\n",
    "def update_all_price_history(account):\n",
    "    account.update_all_price_history()"
   ]
  },
  {
   "cell_type": "code",
   "execution_count": 3,
   "metadata": {},
   "outputs": [
    {
     "name": "stdout",
     "output_type": "stream",
     "text": [
      "Error deleting model Rate: no such table: djmoney_rate\n",
      "Error deleting model ExchangeBackend: no such table: djmoney_exchangebackend\n",
      "Deleted all models\n",
      "Forcefully deleted and recreated folder: C:\\code\\share-dinkum\\share_dinkum_proj\\media\n"
     ]
    }
   ],
   "source": [
    "await clear_all_data()"
   ]
  },
  {
   "cell_type": "code",
   "execution_count": 4,
   "metadata": {},
   "outputs": [
    {
     "name": "stdout",
     "output_type": "stream",
     "text": [
      "Superuser created successfully!\n"
     ]
    },
    {
     "data": {
      "text/plain": [
       "<Account: Default Portfolio | AUD>"
      ]
     },
     "execution_count": 4,
     "metadata": {},
     "output_type": "execute_result"
    }
   ],
   "source": [
    "account = await add_default_account()\n",
    "account"
   ]
  },
  {
   "cell_type": "code",
   "execution_count": 5,
   "metadata": {},
   "outputs": [
    {
     "name": "stdout",
     "output_type": "stream",
     "text": [
      "Using own data\n"
     ]
    },
    {
     "data": {
      "text/plain": [
       "WindowsPath('C:/code/share-dinkum/share_dinkum_proj/share_dinkum_app/import_data/data_import_template_personal.xlsx')"
      ]
     },
     "execution_count": 5,
     "metadata": {},
     "output_type": "execute_result"
    }
   ],
   "source": [
    "import_data_folder = settings.BASE_DIR / 'share_dinkum_app' / 'import_data'\n",
    "\n",
    "personal_data = import_data_folder / 'data_import_template_personal.xlsx'\n",
    "generic_data = import_data_folder / 'data_import_template_public.xlsx'\n",
    "\n",
    "\n",
    "if personal_data.exists():\n",
    "    print('Using own data')\n",
    "    input_file = personal_data\n",
    "else:\n",
    "    print('Using generic data')\n",
    "    input_file = generic_data\n",
    "\n",
    "input_file\n"
   ]
  },
  {
   "cell_type": "code",
   "execution_count": 6,
   "metadata": {},
   "outputs": [
    {
     "name": "stdout",
     "output_type": "stream",
     "text": [
      "Loading Market\n"
     ]
    },
    {
     "name": "stderr",
     "output_type": "stream",
     "text": [
      "11it [00:00, 70.93it/s]\n"
     ]
    },
    {
     "name": "stdout",
     "output_type": "stream",
     "text": [
      "Loading Instrument\n"
     ]
    },
    {
     "name": "stderr",
     "output_type": "stream",
     "text": [
      "45it [00:01, 36.55it/s]\n"
     ]
    },
    {
     "name": "stdout",
     "output_type": "stream",
     "text": [
      "Loading Buy\n"
     ]
    },
    {
     "name": "stderr",
     "output_type": "stream",
     "text": [
      "247it [00:14, 17.22it/s]\n"
     ]
    },
    {
     "name": "stdout",
     "output_type": "stream",
     "text": [
      "Loading Sell\n"
     ]
    },
    {
     "name": "stderr",
     "output_type": "stream",
     "text": [
      "44it [00:00, 49.61it/s]\n"
     ]
    },
    {
     "name": "stdout",
     "output_type": "stream",
     "text": [
      "Loading SellAllocation\n"
     ]
    },
    {
     "name": "stderr",
     "output_type": "stream",
     "text": [
      "82it [00:05, 16.16it/s]\n"
     ]
    },
    {
     "name": "stdout",
     "output_type": "stream",
     "text": [
      "Loading ShareSplit\n"
     ]
    },
    {
     "name": "stderr",
     "output_type": "stream",
     "text": [
      "0it [00:00, ?it/s]\n"
     ]
    },
    {
     "name": "stdout",
     "output_type": "stream",
     "text": [
      "Loading CostBaseAdjustment\n"
     ]
    },
    {
     "name": "stderr",
     "output_type": "stream",
     "text": [
      "40it [00:03, 13.06it/s]\n"
     ]
    },
    {
     "name": "stdout",
     "output_type": "stream",
     "text": [
      "Loading Dividend\n"
     ]
    },
    {
     "name": "stderr",
     "output_type": "stream",
     "text": [
      "296it [00:03, 90.45it/s]\n"
     ]
    },
    {
     "name": "stdout",
     "output_type": "stream",
     "text": [
      "Loading Distribution\n"
     ]
    },
    {
     "name": "stderr",
     "output_type": "stream",
     "text": [
      "180it [00:02, 89.90it/s]\n"
     ]
    }
   ],
   "source": [
    "await load_all_data(account=account, input_file=input_file)"
   ]
  },
  {
   "cell_type": "code",
   "execution_count": 7,
   "metadata": {},
   "outputs": [
    {
     "name": "stderr",
     "output_type": "stream",
     "text": [
      "161231it [10:38, 252.69it/s]\n"
     ]
    }
   ],
   "source": [
    "# You can ignore this cell\n",
    "\n",
    "legacy_db = Path(r'C:\\code\\finance-database\\finance-database.db')\n",
    "\n",
    "if legacy_db.exists():\n",
    "    query = \"SELECT * FROM [price_history] where ticker_code != 'AUDUSD=X'\"\n",
    "    parameters = None\n",
    "    with sqlite3.connect(legacy_db) as conn:\n",
    "        df = pd.read_sql_query(query, conn, params=parameters)\n",
    "    df['account'] = account\n",
    "    df['instrument__name'] = df['ticker_code'].apply(lambda x : x.split('.')[0])\n",
    "    df['date'] = df['date'].apply(lambda x : date.fromisoformat(x))\n",
    "    df = df.drop(columns=['id', 'ticker_code', 'capital_gains', 'dividends'])\n",
    "    df = df[~df['high'].isna()]\n",
    "    await load_historical_prices(df=df, account=account)"
   ]
  },
  {
   "cell_type": "code",
   "execution_count": null,
   "metadata": {},
   "outputs": [],
   "source": [
    "await update_all_price_history(account=account)"
   ]
  }
 ],
 "metadata": {
  "kernelspec": {
   "display_name": "share-tracker",
   "language": "python",
   "name": "python3"
  },
  "language_info": {
   "codemirror_mode": {
    "name": "ipython",
    "version": 3
   },
   "file_extension": ".py",
   "mimetype": "text/x-python",
   "name": "python",
   "nbconvert_exporter": "python",
   "pygments_lexer": "ipython3",
   "version": "3.13.3"
  }
 },
 "nbformat": 4,
 "nbformat_minor": 2
}
